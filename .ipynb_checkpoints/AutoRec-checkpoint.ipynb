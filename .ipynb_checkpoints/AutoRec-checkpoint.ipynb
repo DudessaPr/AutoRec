{
 "cells": [
  {
   "cell_type": "code",
   "execution_count": 1,
   "id": "41553602-9d19-4198-a85e-58e241a75648",
   "metadata": {},
   "outputs": [],
   "source": [
    "import pandas as pd\n",
    "import numpy as np\n",
    "import torch\n",
    "from torch import nn\n",
    "from sklearn.model_selection import train_test_split\n",
    "import matplotlib.pyplot as plt"
   ]
  },
  {
   "cell_type": "code",
   "execution_count": 2,
   "id": "dcf5685b-ba0b-40ff-93fe-b254355367d6",
   "metadata": {},
   "outputs": [],
   "source": [
    "ratings_path = \"ml-latest-small/ratings.csv\"\n",
    "ratings = pd.read_csv(ratings_path)"
   ]
  },
  {
   "cell_type": "code",
   "execution_count": 3,
   "id": "b3b1c901-0810-4982-a3b5-a14d6ce4924c",
   "metadata": {},
   "outputs": [
    {
     "data": {
      "text/html": [
       "<div>\n",
       "<style scoped>\n",
       "    .dataframe tbody tr th:only-of-type {\n",
       "        vertical-align: middle;\n",
       "    }\n",
       "\n",
       "    .dataframe tbody tr th {\n",
       "        vertical-align: top;\n",
       "    }\n",
       "\n",
       "    .dataframe thead th {\n",
       "        text-align: right;\n",
       "    }\n",
       "</style>\n",
       "<table border=\"1\" class=\"dataframe\">\n",
       "  <thead>\n",
       "    <tr style=\"text-align: right;\">\n",
       "      <th></th>\n",
       "      <th>userId</th>\n",
       "      <th>movieId</th>\n",
       "      <th>rating</th>\n",
       "      <th>timestamp</th>\n",
       "    </tr>\n",
       "  </thead>\n",
       "  <tbody>\n",
       "    <tr>\n",
       "      <th>0</th>\n",
       "      <td>1</td>\n",
       "      <td>1</td>\n",
       "      <td>4.0</td>\n",
       "      <td>964982703</td>\n",
       "    </tr>\n",
       "    <tr>\n",
       "      <th>1</th>\n",
       "      <td>1</td>\n",
       "      <td>3</td>\n",
       "      <td>4.0</td>\n",
       "      <td>964981247</td>\n",
       "    </tr>\n",
       "    <tr>\n",
       "      <th>2</th>\n",
       "      <td>1</td>\n",
       "      <td>6</td>\n",
       "      <td>4.0</td>\n",
       "      <td>964982224</td>\n",
       "    </tr>\n",
       "    <tr>\n",
       "      <th>3</th>\n",
       "      <td>1</td>\n",
       "      <td>47</td>\n",
       "      <td>5.0</td>\n",
       "      <td>964983815</td>\n",
       "    </tr>\n",
       "    <tr>\n",
       "      <th>4</th>\n",
       "      <td>1</td>\n",
       "      <td>50</td>\n",
       "      <td>5.0</td>\n",
       "      <td>964982931</td>\n",
       "    </tr>\n",
       "    <tr>\n",
       "      <th>...</th>\n",
       "      <td>...</td>\n",
       "      <td>...</td>\n",
       "      <td>...</td>\n",
       "      <td>...</td>\n",
       "    </tr>\n",
       "    <tr>\n",
       "      <th>100831</th>\n",
       "      <td>610</td>\n",
       "      <td>166534</td>\n",
       "      <td>4.0</td>\n",
       "      <td>1493848402</td>\n",
       "    </tr>\n",
       "    <tr>\n",
       "      <th>100832</th>\n",
       "      <td>610</td>\n",
       "      <td>168248</td>\n",
       "      <td>5.0</td>\n",
       "      <td>1493850091</td>\n",
       "    </tr>\n",
       "    <tr>\n",
       "      <th>100833</th>\n",
       "      <td>610</td>\n",
       "      <td>168250</td>\n",
       "      <td>5.0</td>\n",
       "      <td>1494273047</td>\n",
       "    </tr>\n",
       "    <tr>\n",
       "      <th>100834</th>\n",
       "      <td>610</td>\n",
       "      <td>168252</td>\n",
       "      <td>5.0</td>\n",
       "      <td>1493846352</td>\n",
       "    </tr>\n",
       "    <tr>\n",
       "      <th>100835</th>\n",
       "      <td>610</td>\n",
       "      <td>170875</td>\n",
       "      <td>3.0</td>\n",
       "      <td>1493846415</td>\n",
       "    </tr>\n",
       "  </tbody>\n",
       "</table>\n",
       "<p>100836 rows × 4 columns</p>\n",
       "</div>"
      ],
      "text/plain": [
       "        userId  movieId  rating   timestamp\n",
       "0            1        1     4.0   964982703\n",
       "1            1        3     4.0   964981247\n",
       "2            1        6     4.0   964982224\n",
       "3            1       47     5.0   964983815\n",
       "4            1       50     5.0   964982931\n",
       "...        ...      ...     ...         ...\n",
       "100831     610   166534     4.0  1493848402\n",
       "100832     610   168248     5.0  1493850091\n",
       "100833     610   168250     5.0  1494273047\n",
       "100834     610   168252     5.0  1493846352\n",
       "100835     610   170875     3.0  1493846415\n",
       "\n",
       "[100836 rows x 4 columns]"
      ]
     },
     "execution_count": 3,
     "metadata": {},
     "output_type": "execute_result"
    }
   ],
   "source": [
    "ratings"
   ]
  },
  {
   "cell_type": "code",
   "execution_count": 4,
   "id": "6ecc1608-5552-4130-92ec-7161880788ba",
   "metadata": {},
   "outputs": [],
   "source": [
    "user_mapping = {user_id: idx for idx, user_id in enumerate(ratings['userId'].unique())}\n",
    "movie_mapping = {movie_id: idx for idx, movie_id in enumerate(ratings['movieId'].unique())}"
   ]
  },
  {
   "cell_type": "code",
   "execution_count": 5,
   "id": "a2d7958c-3b22-4612-9d8c-6e0f11ac3375",
   "metadata": {},
   "outputs": [],
   "source": [
    "ratings['userId'] = ratings['userId'].map(user_mapping)\n",
    "ratings['movieId'] = ratings['movieId'].map(movie_mapping)"
   ]
  },
  {
   "cell_type": "code",
   "execution_count": 6,
   "id": "f08a2387-ab93-4bbb-ab54-a2669c6cb087",
   "metadata": {},
   "outputs": [],
   "source": [
    "# Number of users and movies\n",
    "num_users = len(user_mapping)\n",
    "num_movies = len(movie_mapping)"
   ]
  },
  {
   "cell_type": "code",
   "execution_count": 7,
   "id": "acfa5e11-f6e1-43d8-a8db-3f98a7a75fd9",
   "metadata": {},
   "outputs": [
    {
     "data": {
      "text/plain": [
       "610"
      ]
     },
     "execution_count": 7,
     "metadata": {},
     "output_type": "execute_result"
    }
   ],
   "source": [
    "num_users"
   ]
  },
  {
   "cell_type": "code",
   "execution_count": 8,
   "id": "30e61553-7cd5-4d99-b8b0-67a7b7c2f9b0",
   "metadata": {},
   "outputs": [
    {
     "data": {
      "text/plain": [
       "9724"
      ]
     },
     "execution_count": 8,
     "metadata": {},
     "output_type": "execute_result"
    }
   ],
   "source": [
    "num_movies"
   ]
  },
  {
   "cell_type": "code",
   "execution_count": 9,
   "id": "8c4ba7e5-1962-48bc-b8f4-452b3a5906ae",
   "metadata": {},
   "outputs": [],
   "source": [
    "# Create user-item interaction matrix\n",
    "user_item_matrix = torch.zeros((num_users, num_movies))"
   ]
  },
  {
   "cell_type": "code",
   "execution_count": 10,
   "id": "d7f3949e-676f-4074-a259-a145cfc437c9",
   "metadata": {},
   "outputs": [],
   "source": [
    "for row in ratings.itertuples():\n",
    "    user_item_matrix[row.userId, row.movieId] = row.rating"
   ]
  },
  {
   "cell_type": "code",
   "execution_count": 11,
   "id": "d4f6520c-0d4b-4143-8f95-2a878d2ad294",
   "metadata": {},
   "outputs": [],
   "source": [
    "# Convert to PyTorch tensor\n",
    "user_item_matrix = torch.FloatTensor(user_item_matrix)"
   ]
  },
  {
   "cell_type": "code",
   "execution_count": 12,
   "id": "d9606132-b70e-4af1-abdc-3df1eb0a786c",
   "metadata": {},
   "outputs": [
    {
     "data": {
      "text/plain": [
       "torch.Size([610, 9724])"
      ]
     },
     "execution_count": 12,
     "metadata": {},
     "output_type": "execute_result"
    }
   ],
   "source": [
    "user_item_matrix.shape"
   ]
  },
  {
   "cell_type": "code",
   "execution_count": 13,
   "id": "c32bfb64-422f-4882-b770-042ebb6f8ad3",
   "metadata": {},
   "outputs": [],
   "source": [
    "# Train-test split\n",
    "train_data, test_data = train_test_split(ratings, test_size=0.2, random_state=102)\n",
    "\n",
    "# Mask for train-test split\n",
    "train_matrix = user_item_matrix.clone()\n",
    "test_matrix = user_item_matrix.clone()"
   ]
  },
  {
   "cell_type": "code",
   "execution_count": 14,
   "id": "1a5aa091-949c-4352-bfab-12b92460f68b",
   "metadata": {},
   "outputs": [
    {
     "data": {
      "text/plain": [
       "(80668, 4)"
      ]
     },
     "execution_count": 14,
     "metadata": {},
     "output_type": "execute_result"
    }
   ],
   "source": [
    "train_data.shape"
   ]
  },
  {
   "cell_type": "code",
   "execution_count": 15,
   "id": "995588b0-4651-4fa6-803b-f2b54483de4f",
   "metadata": {},
   "outputs": [
    {
     "data": {
      "text/plain": [
       "(20168, 4)"
      ]
     },
     "execution_count": 15,
     "metadata": {},
     "output_type": "execute_result"
    }
   ],
   "source": [
    "test_data.shape"
   ]
  },
  {
   "cell_type": "code",
   "execution_count": 17,
   "id": "8dbd93df-8b96-4296-bc23-e1e237e32abc",
   "metadata": {},
   "outputs": [],
   "source": [
    "for row in train_data.itertuples():\n",
    "    train_matrix[row.userId, row.movieId] = row.rating\n",
    "for row in test_data.itertuples():\n",
    "    test_matrix[row.userId, row.movieId] = row.rating"
   ]
  },
  {
   "cell_type": "code",
   "execution_count": 18,
   "id": "2e435f23-e38b-43e3-8512-72ee3c7dda51",
   "metadata": {},
   "outputs": [
    {
     "data": {
      "text/plain": [
       "tensor([[4.0000, 4.0000, 4.0000,  ..., 0.0000, 0.0000, 0.0000],\n",
       "        [0.0000, 0.0000, 0.0000,  ..., 0.0000, 0.0000, 0.0000],\n",
       "        [0.0000, 0.0000, 0.0000,  ..., 0.0000, 0.0000, 0.0000],\n",
       "        ...,\n",
       "        [2.5000, 2.0000, 0.0000,  ..., 0.0000, 0.0000, 0.0000],\n",
       "        [3.0000, 0.0000, 0.0000,  ..., 0.0000, 0.0000, 0.0000],\n",
       "        [5.0000, 0.0000, 5.0000,  ..., 3.0000, 3.5000, 3.5000]])"
      ]
     },
     "execution_count": 18,
     "metadata": {},
     "output_type": "execute_result"
    }
   ],
   "source": [
    "train_matrix"
   ]
  },
  {
   "cell_type": "code",
   "execution_count": 19,
   "id": "abb24f95-e337-4bc3-80e1-0457cbc240ed",
   "metadata": {},
   "outputs": [
    {
     "data": {
      "text/plain": [
       "tensor([[4.0000, 4.0000, 4.0000,  ..., 0.0000, 0.0000, 0.0000],\n",
       "        [0.0000, 0.0000, 0.0000,  ..., 0.0000, 0.0000, 0.0000],\n",
       "        [0.0000, 0.0000, 0.0000,  ..., 0.0000, 0.0000, 0.0000],\n",
       "        ...,\n",
       "        [2.5000, 2.0000, 0.0000,  ..., 0.0000, 0.0000, 0.0000],\n",
       "        [3.0000, 0.0000, 0.0000,  ..., 0.0000, 0.0000, 0.0000],\n",
       "        [5.0000, 0.0000, 5.0000,  ..., 3.0000, 3.5000, 3.5000]])"
      ]
     },
     "execution_count": 19,
     "metadata": {},
     "output_type": "execute_result"
    }
   ],
   "source": [
    "test_matrix"
   ]
  },
  {
   "cell_type": "code",
   "execution_count": 20,
   "id": "7c166edc-d3f2-40ca-a0c6-6eced393b8d1",
   "metadata": {},
   "outputs": [],
   "source": [
    "class AutoRec(nn.Module):\n",
    "    def __init__(self, num_items, hidden_dim, lambda_):\n",
    "        super(AutoRec, self).__init__()\n",
    "        self.lambda_ = lambda_\n",
    "        self.encoder = nn.Linear(num_items, hidden_dim, bias=True)\n",
    "        self.decoder = nn.Linear(hidden_dim, num_items, bias=True)\n",
    "        self.sigmoid = nn.Sigmoid()\n",
    "\n",
    "    def forward(self, x):\n",
    "        encoded = self.sigmoid(self.encoder(x))\n",
    "        decoded = self.decoder(encoded)\n",
    "        return decoded\n",
    "\n",
    "    def regularization_loss(self):\n",
    "        reg_loss = 0\n",
    "        for param in self.parameters():\n",
    "            reg_loss += param.norm(2)\n",
    "        return self.lambda_ * reg_loss"
   ]
  },
  {
   "cell_type": "code",
   "execution_count": 21,
   "id": "6fd9dbd3-e09b-4f22-8b08-af55ac72a5e6",
   "metadata": {},
   "outputs": [],
   "source": [
    "def train_epoch(model, train_data, optimizer, criterion, batch_size):\n",
    "    model.train()\n",
    "    num_batches = train_data.size(0) // batch_size\n",
    "    total_loss = 0\n",
    "\n",
    "    for i in range(num_batches):\n",
    "        batch = train_data[i * batch_size:(i + 1) * batch_size].to(device)\n",
    "\n",
    "        optimizer.zero_grad()\n",
    "        predictions = model(batch)\n",
    "        mask = batch > 0 \n",
    "        loss = criterion(predictions[mask], batch[mask]) + model.regularization_loss()\n",
    "        loss.backward()\n",
    "        optimizer.step()\n",
    "\n",
    "        total_loss += loss.item()\n",
    "\n",
    "    return total_loss / num_batches\n"
   ]
  },
  {
   "cell_type": "code",
   "execution_count": 22,
   "id": "cdfacb9b-6b8b-4cd2-a892-e3df774669cc",
   "metadata": {},
   "outputs": [],
   "source": [
    "def evaluate_model(model, test_data, criterion, batch_size):\n",
    "    model.eval()\n",
    "    num_batches = test_data.size(0) // batch_size\n",
    "    total_loss = 0\n",
    "\n",
    "    with torch.no_grad():\n",
    "        for i in range(num_batches):\n",
    "            batch = test_data[i * batch_size:(i + 1) * batch_size].to(device)\n",
    "\n",
    "            predictions = model(batch)\n",
    "            mask = batch > 0  # Mask for non-zero ratings\n",
    "            loss = criterion(predictions[mask], batch[mask])\n",
    "            total_loss += loss.item()\n",
    "\n",
    "    return total_loss / num_batches"
   ]
  },
  {
   "cell_type": "code",
   "execution_count": 23,
   "id": "31e1b7fa-a40f-48f1-a2cc-d2c2e4ec38d1",
   "metadata": {},
   "outputs": [],
   "source": [
    "# Hyperparameters\n",
    "hidden_dim = 1000\n",
    "lambda_ = 0.0001\n",
    "learning_rate = 0.001\n",
    "batch_size = 32\n",
    "epochs = 128\n",
    "device = 'cuda' if torch.cuda.is_available() else 'cpu'"
   ]
  },
  {
   "cell_type": "code",
   "execution_count": 25,
   "id": "4508c600-6147-4878-a56c-f5963953ea21",
   "metadata": {},
   "outputs": [],
   "source": [
    "# Initialize model, optimizer, and loss function\n",
    "model = AutoRec(num_movies, hidden_dim, lambda_).to(device)\n",
    "optimizer = torch.optim.Adam(model.parameters(), lr=learning_rate, amsgrad=True)\n",
    "criterion = nn.MSELoss()"
   ]
  },
  {
   "cell_type": "code",
   "execution_count": 26,
   "id": "30684490-c2c9-44f9-9596-479955f15bb4",
   "metadata": {},
   "outputs": [],
   "source": [
    "train_tensor = train_matrix.to(device)\n",
    "test_tensor = test_matrix.to(device)"
   ]
  },
  {
   "cell_type": "code",
   "execution_count": 27,
   "id": "26374514-f58a-4169-97f7-b0b4d286d68a",
   "metadata": {},
   "outputs": [],
   "source": [
    "train_losses, test_losses = [], []"
   ]
  },
  {
   "cell_type": "code",
   "execution_count": 28,
   "id": "f35f4af3-2aaf-4ddb-baa8-de703e4c2768",
   "metadata": {},
   "outputs": [
    {
     "name": "stdout",
     "output_type": "stream",
     "text": [
      "Epoch 1/128, Train Loss: 4.1884, Test Loss: 1.3439\n",
      "Epoch 2/128, Train Loss: 1.2277, Test Loss: 0.8634\n",
      "Epoch 3/128, Train Loss: 0.9176, Test Loss: 0.7488\n",
      "Epoch 4/128, Train Loss: 0.8041, Test Loss: 0.6567\n",
      "Epoch 5/128, Train Loss: 0.7110, Test Loss: 0.5742\n",
      "Epoch 6/128, Train Loss: 0.6303, Test Loss: 0.5113\n",
      "Epoch 7/128, Train Loss: 0.5575, Test Loss: 0.4494\n",
      "Epoch 8/128, Train Loss: 0.4929, Test Loss: 0.3981\n",
      "Epoch 9/128, Train Loss: 0.4358, Test Loss: 0.3547\n",
      "Epoch 10/128, Train Loss: 0.3866, Test Loss: 0.3122\n",
      "Epoch 11/128, Train Loss: 0.3455, Test Loss: 0.2833\n",
      "Epoch 12/128, Train Loss: 0.3144, Test Loss: 0.2927\n",
      "Epoch 13/128, Train Loss: 0.2974, Test Loss: 0.2756\n",
      "Epoch 14/128, Train Loss: 0.2953, Test Loss: 0.2526\n",
      "Epoch 15/128, Train Loss: 0.3029, Test Loss: 0.2710\n",
      "Epoch 16/128, Train Loss: 0.3287, Test Loss: 0.4479\n",
      "Epoch 17/128, Train Loss: 0.3867, Test Loss: 0.6194\n",
      "Epoch 18/128, Train Loss: 0.4795, Test Loss: 0.4646\n",
      "Epoch 19/128, Train Loss: 0.5565, Test Loss: 0.4297\n",
      "Epoch 20/128, Train Loss: 0.5764, Test Loss: 0.7181\n",
      "Epoch 21/128, Train Loss: 0.5805, Test Loss: 0.5420\n",
      "Epoch 22/128, Train Loss: 0.4943, Test Loss: 0.2885\n",
      "Epoch 23/128, Train Loss: 0.3571, Test Loss: 0.2186\n",
      "Epoch 24/128, Train Loss: 0.2444, Test Loss: 0.1721\n",
      "Epoch 25/128, Train Loss: 0.1783, Test Loss: 0.1148\n",
      "Epoch 26/128, Train Loss: 0.1438, Test Loss: 0.0985\n",
      "Epoch 27/128, Train Loss: 0.1240, Test Loss: 0.1001\n",
      "Epoch 28/128, Train Loss: 0.1151, Test Loss: 0.0830\n",
      "Epoch 29/128, Train Loss: 0.1059, Test Loss: 0.0701\n",
      "Epoch 30/128, Train Loss: 0.0973, Test Loss: 0.0649\n",
      "Epoch 31/128, Train Loss: 0.0893, Test Loss: 0.0611\n",
      "Epoch 32/128, Train Loss: 0.0851, Test Loss: 0.0542\n",
      "Epoch 33/128, Train Loss: 0.0810, Test Loss: 0.0521\n",
      "Epoch 34/128, Train Loss: 0.0794, Test Loss: 0.0529\n",
      "Epoch 35/128, Train Loss: 0.0785, Test Loss: 0.0511\n",
      "Epoch 36/128, Train Loss: 0.0781, Test Loss: 0.0487\n",
      "Epoch 37/128, Train Loss: 0.0782, Test Loss: 0.0486\n",
      "Epoch 38/128, Train Loss: 0.0785, Test Loss: 0.0473\n",
      "Epoch 39/128, Train Loss: 0.0789, Test Loss: 0.0484\n",
      "Epoch 40/128, Train Loss: 0.0808, Test Loss: 0.0467\n",
      "Epoch 41/128, Train Loss: 0.0814, Test Loss: 0.0487\n",
      "Epoch 42/128, Train Loss: 0.0829, Test Loss: 0.0496\n",
      "Epoch 43/128, Train Loss: 0.0841, Test Loss: 0.0484\n",
      "Epoch 44/128, Train Loss: 0.0848, Test Loss: 0.0473\n",
      "Epoch 45/128, Train Loss: 0.0863, Test Loss: 0.0526\n",
      "Epoch 46/128, Train Loss: 0.0886, Test Loss: 0.0512\n",
      "Epoch 47/128, Train Loss: 0.0902, Test Loss: 0.0521\n",
      "Epoch 48/128, Train Loss: 0.0940, Test Loss: 0.0630\n",
      "Epoch 49/128, Train Loss: 0.0981, Test Loss: 0.0703\n",
      "Epoch 50/128, Train Loss: 0.1034, Test Loss: 0.0673\n",
      "Epoch 51/128, Train Loss: 0.1068, Test Loss: 0.0679\n",
      "Epoch 52/128, Train Loss: 0.1124, Test Loss: 0.0788\n",
      "Epoch 53/128, Train Loss: 0.1143, Test Loss: 0.0870\n",
      "Epoch 54/128, Train Loss: 0.1200, Test Loss: 0.0796\n",
      "Epoch 55/128, Train Loss: 0.1247, Test Loss: 0.0930\n",
      "Epoch 56/128, Train Loss: 0.1303, Test Loss: 0.1277\n",
      "Epoch 57/128, Train Loss: 0.1366, Test Loss: 0.1301\n",
      "Epoch 58/128, Train Loss: 0.1472, Test Loss: 0.1015\n",
      "Epoch 59/128, Train Loss: 0.1466, Test Loss: 0.1247\n",
      "Epoch 60/128, Train Loss: 0.1462, Test Loss: 0.1448\n",
      "Epoch 61/128, Train Loss: 0.1452, Test Loss: 0.1257\n",
      "Epoch 62/128, Train Loss: 0.1422, Test Loss: 0.1026\n",
      "Epoch 63/128, Train Loss: 0.1397, Test Loss: 0.1447\n",
      "Epoch 64/128, Train Loss: 0.1437, Test Loss: 0.1563\n",
      "Epoch 65/128, Train Loss: 0.1444, Test Loss: 0.1103\n",
      "Epoch 66/128, Train Loss: 0.1390, Test Loss: 0.1107\n",
      "Epoch 67/128, Train Loss: 0.1295, Test Loss: 0.1268\n",
      "Epoch 68/128, Train Loss: 0.1177, Test Loss: 0.0942\n",
      "Epoch 69/128, Train Loss: 0.1078, Test Loss: 0.0732\n",
      "Epoch 70/128, Train Loss: 0.0986, Test Loss: 0.0934\n",
      "Epoch 71/128, Train Loss: 0.0936, Test Loss: 0.0855\n",
      "Epoch 72/128, Train Loss: 0.0917, Test Loss: 0.0592\n",
      "Epoch 73/128, Train Loss: 0.0842, Test Loss: 0.0650\n",
      "Epoch 74/128, Train Loss: 0.0777, Test Loss: 0.0673\n",
      "Epoch 75/128, Train Loss: 0.0724, Test Loss: 0.0471\n",
      "Epoch 76/128, Train Loss: 0.0663, Test Loss: 0.0435\n",
      "Epoch 77/128, Train Loss: 0.0606, Test Loss: 0.0507\n",
      "Epoch 78/128, Train Loss: 0.0580, Test Loss: 0.0391\n",
      "Epoch 79/128, Train Loss: 0.0548, Test Loss: 0.0294\n",
      "Epoch 80/128, Train Loss: 0.0489, Test Loss: 0.0320\n",
      "Epoch 81/128, Train Loss: 0.0447, Test Loss: 0.0294\n",
      "Epoch 82/128, Train Loss: 0.0415, Test Loss: 0.0209\n",
      "Epoch 83/128, Train Loss: 0.0378, Test Loss: 0.0189\n",
      "Epoch 84/128, Train Loss: 0.0348, Test Loss: 0.0192\n",
      "Epoch 85/128, Train Loss: 0.0329, Test Loss: 0.0167\n",
      "Epoch 86/128, Train Loss: 0.0311, Test Loss: 0.0139\n",
      "Epoch 87/128, Train Loss: 0.0301, Test Loss: 0.0135\n",
      "Epoch 88/128, Train Loss: 0.0287, Test Loss: 0.0134\n",
      "Epoch 89/128, Train Loss: 0.0277, Test Loss: 0.0119\n",
      "Epoch 90/128, Train Loss: 0.0271, Test Loss: 0.0112\n",
      "Epoch 91/128, Train Loss: 0.0266, Test Loss: 0.0107\n",
      "Epoch 92/128, Train Loss: 0.0261, Test Loss: 0.0108\n",
      "Epoch 93/128, Train Loss: 0.0255, Test Loss: 0.0102\n",
      "Epoch 94/128, Train Loss: 0.0256, Test Loss: 0.0100\n",
      "Epoch 95/128, Train Loss: 0.0256, Test Loss: 0.0098\n",
      "Epoch 96/128, Train Loss: 0.0254, Test Loss: 0.0097\n",
      "Epoch 97/128, Train Loss: 0.0256, Test Loss: 0.0095\n",
      "Epoch 98/128, Train Loss: 0.0256, Test Loss: 0.0096\n",
      "Epoch 99/128, Train Loss: 0.0253, Test Loss: 0.0098\n",
      "Epoch 100/128, Train Loss: 0.0260, Test Loss: 0.0098\n",
      "Epoch 101/128, Train Loss: 0.0256, Test Loss: 0.0098\n",
      "Epoch 102/128, Train Loss: 0.0263, Test Loss: 0.0094\n",
      "Epoch 103/128, Train Loss: 0.0263, Test Loss: 0.0099\n",
      "Epoch 104/128, Train Loss: 0.0263, Test Loss: 0.0100\n",
      "Epoch 105/128, Train Loss: 0.0268, Test Loss: 0.0103\n",
      "Epoch 106/128, Train Loss: 0.0270, Test Loss: 0.0105\n",
      "Epoch 107/128, Train Loss: 0.0276, Test Loss: 0.0105\n",
      "Epoch 108/128, Train Loss: 0.0279, Test Loss: 0.0109\n",
      "Epoch 109/128, Train Loss: 0.0284, Test Loss: 0.0109\n",
      "Epoch 110/128, Train Loss: 0.0285, Test Loss: 0.0107\n",
      "Epoch 111/128, Train Loss: 0.0285, Test Loss: 0.0115\n",
      "Epoch 112/128, Train Loss: 0.0288, Test Loss: 0.0104\n",
      "Epoch 113/128, Train Loss: 0.0280, Test Loss: 0.0109\n",
      "Epoch 114/128, Train Loss: 0.0288, Test Loss: 0.0115\n",
      "Epoch 115/128, Train Loss: 0.0289, Test Loss: 0.0110\n",
      "Epoch 116/128, Train Loss: 0.0287, Test Loss: 0.0111\n",
      "Epoch 117/128, Train Loss: 0.0294, Test Loss: 0.0123\n",
      "Epoch 118/128, Train Loss: 0.0299, Test Loss: 0.0111\n",
      "Epoch 119/128, Train Loss: 0.0298, Test Loss: 0.0121\n",
      "Epoch 120/128, Train Loss: 0.0306, Test Loss: 0.0122\n",
      "Epoch 121/128, Train Loss: 0.0301, Test Loss: 0.0122\n",
      "Epoch 122/128, Train Loss: 0.0310, Test Loss: 0.0130\n",
      "Epoch 123/128, Train Loss: 0.0311, Test Loss: 0.0129\n",
      "Epoch 124/128, Train Loss: 0.0314, Test Loss: 0.0128\n",
      "Epoch 125/128, Train Loss: 0.0317, Test Loss: 0.0124\n",
      "Epoch 126/128, Train Loss: 0.0315, Test Loss: 0.0128\n",
      "Epoch 127/128, Train Loss: 0.0318, Test Loss: 0.0131\n",
      "Epoch 128/128, Train Loss: 0.0319, Test Loss: 0.0125\n"
     ]
    }
   ],
   "source": [
    "for epoch in range(epochs):\n",
    "    train_loss = train_epoch(model, train_tensor, optimizer, criterion, batch_size)\n",
    "    test_loss = evaluate_model(model, test_tensor, criterion, batch_size)\n",
    "\n",
    "    train_losses.append(train_loss)\n",
    "    test_losses.append(test_loss)\n",
    "\n",
    "    print(f\"Epoch {epoch + 1}/{epochs}, Train Loss: {train_loss:.4f}, Test Loss: {test_loss:.4f}\")"
   ]
  },
  {
   "cell_type": "code",
   "execution_count": 29,
   "id": "087546d4-bd03-4c86-a67a-ce608877e2e7",
   "metadata": {},
   "outputs": [
    {
     "data": {
      "image/png": "[encoded data removed]",
      "text/plain": [
       "<Figure size 640x480 with 1 Axes>"
      ]
     },
     "metadata": {},
     "output_type": "display_data"
    }
   ],
   "source": [
    "# Plot losses\n",
    "plt.plot(train_losses, label='Train Loss')\n",
    "plt.plot(test_losses, label='Test Loss')\n",
    "plt.xlabel('Epoch')\n",
    "plt.ylabel('Loss')\n",
    "plt.title('Training and Testing Loss')\n",
    "plt.show()"
   ]
  },
  {
   "cell_type": "code",
   "execution_count": 30,
   "id": "13142f86-f29e-4376-96e1-e9cac7baa52f",
   "metadata": {},
   "outputs": [],
   "source": [
    "def calculate_rmse(model, data, batch_size):\n",
    "    model.eval()\n",
    "    num_batches = data.size(0) // batch_size\n",
    "    mse = 0\n",
    "    total_ratings = 0\n",
    "\n",
    "    with torch.no_grad():\n",
    "        for i in range(num_batches):\n",
    "            batch = data[i * batch_size:(i + 1) * batch_size].to(device)\n",
    "            predictions = model(batch)\n",
    "            mask = batch > 0\n",
    "            mse += ((predictions[mask] - batch[mask]) ** 2).sum().item()\n",
    "            total_ratings += mask.sum().item()\n",
    "\n",
    "    return np.sqrt(mse / total_ratings)"
   ]
  },
  {
   "cell_type": "code",
   "execution_count": 31,
   "id": "609f2cda-0ed4-4017-9414-398f3aa9851e",
   "metadata": {},
   "outputs": [
    {
     "name": "stdout",
     "output_type": "stream",
     "text": [
      "Test RMSE: 0.1126\n"
     ]
    }
   ],
   "source": [
    "rmse = calculate_rmse(model, test_tensor, batch_size)\n",
    "print(f\"Test RMSE: {rmse:.4f}\")"
   ]
  },
  {
   "cell_type": "markdown",
   "id": "28605f42-2de6-4ce0-abb9-888a5e0b32ab",
   "metadata": {},
   "source": [
    "# Choosing hyperparameters\n",
    "\n",
    "Best combination in 50 epochs with ADAM is:\n",
    "{'hidden_dim': 1000, 'lambda_': 0.0001, 'learning_rate': 0.001, 'batch_size': 32, 'betas': (0.9, 0.99), 'eps': 1e-07, 'amsgrad': True}\n",
    "\n",
    "Best RMSE: 0.5019\n"
   ]
  },
  {
   "cell_type": "code",
   "execution_count": null,
   "id": "2d5c70c4-be59-4c9e-b399-064c4169f197",
   "metadata": {},
   "outputs": [
    {
     "name": "stdout",
     "output_type": "stream",
     "text": [
      "Testing combination 1/192: (100, 0.0001, 0.01, 32, False)\n",
      "RMSE: 0.6354\n",
      "Testing combination 2/192: (100, 0.0001, 0.01, 32, True)\n",
      "RMSE: 0.6255\n",
      "Testing combination 3/192: (100, 0.0001, 0.01, 64, False)\n",
      "RMSE: 0.6547\n",
      "Testing combination 4/192: (100, 0.0001, 0.01, 64, True)\n",
      "RMSE: 0.5916\n",
      "Testing combination 5/192: (100, 0.0001, 0.01, 128, False)\n",
      "RMSE: 0.7142\n",
      "Testing combination 6/192: (100, 0.0001, 0.01, 128, True)\n",
      "RMSE: 0.7031\n",
      "Testing combination 7/192: (100, 0.0001, 0.01, 256, False)\n",
      "RMSE: 0.7761\n",
      "Testing combination 8/192: (100, 0.0001, 0.01, 256, True)\n",
      "RMSE: 0.7643\n",
      "Testing combination 9/192: (100, 0.0001, 0.015, 32, False)\n"
     ]
    }
   ],
   "source": [
    "import itertools\n",
    "\n",
    "param_grid = {\n",
    "    'hidden_dim': [100, 500, 1000],\n",
    "    'lambda_': [0.0001, 0.001],\n",
    "    'learning_rate': [0.01, 0.015, 0.001, 0.0001],\n",
    "    'batch_size': [32, 64, 128, 256],\n",
    "    'amsgrad': [False, True],\n",
    "}\n",
    "\n",
    "param_combinations = list(itertools.product(*param_grid.values()))\n",
    "\n",
    "def train_and_evaluate(params, train_matrix, test_matrix):\n",
    "    # Unpack parameters\n",
    "    hidden_dim, lambda_, learning_rate, batch_size, amsgrad = params\n",
    "\n",
    "    model = AutoRec(num_movies, hidden_dim, lambda_).to(device)\n",
    "    optimizer = torch.optim.Adam(\n",
    "        model.parameters(),\n",
    "        lr=learning_rate,\n",
    "        amsgrad=amsgrad\n",
    "    )\n",
    "    criterion = nn.MSELoss()\n",
    "    \n",
    "    train_tensor = train_matrix.to(device)\n",
    "    test_tensor = test_matrix.to(device)\n",
    "\n",
    "    for epoch in range(50):\n",
    "        train_epoch(model, train_tensor, optimizer, criterion, batch_size)\n",
    "\n",
    "    rmse = calculate_rmse(model, test_tensor, batch_size)\n",
    "    return rmse\n",
    "\n",
    "best_params = None\n",
    "best_rmse = float('inf')\n",
    "\n",
    "for i, params in enumerate(param_combinations):\n",
    "    print(f\"Testing combination {i+1}/{len(param_combinations)}: {params}\")\n",
    "    rmse = train_and_evaluate(params, train_matrix, test_matrix)\n",
    "    \n",
    "    print(f\"RMSE: {rmse:.4f}\")\n",
    "    \n",
    "    if rmse < best_rmse:\n",
    "        best_rmse = rmse\n",
    "        best_params = params\n",
    "\n",
    "best_param_dict = dict(zip(param_grid.keys(), best_params))\n",
    "print(f\"\\nBest Hyperparameters: {best_param_dict}\")\n",
    "print(f\"Best RMSE: {best_rmse:.4f}\")\n"
   ]
  },
  {
   "cell_type": "code",
   "execution_count": null,
   "id": "922388d9-f790-4e7f-8b07-069ffc7e758d",
   "metadata": {},
   "outputs": [],
   "source": []
  }
 ],
 "metadata": {
  "kernelspec": {
   "display_name": "Python 3 (ipykernel)",
   "language": "python",
   "name": "python3"
  },
  "language_info": {
   "codemirror_mode": {
    "name": "ipython",
    "version": 3
   },
   "file_extension": ".py",
   "mimetype": "text/x-python",
   "name": "python",
   "nbconvert_exporter": "python",
   "pygments_lexer": "ipython3",
   "version": "3.12.4"
  }
 },
 "nbformat": 4,
 "nbformat_minor": 5
}
