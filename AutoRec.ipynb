{
 "cells": [
  {
   "cell_type": "code",
   "execution_count": 1,
   "id": "41553602-9d19-4198-a85e-58e241a75648",
   "metadata": {},
   "outputs": [],
   "source": [
    "import pandas as pd\n",
    "import numpy as np\n",
    "import torch\n",
    "from torch import nn\n",
    "from sklearn.model_selection import train_test_split\n",
    "import matplotlib.pyplot as plt"
   ]
  },
  {
   "cell_type": "code",
   "execution_count": 2,
   "id": "52dd6d5f-e169-4d78-afdd-6d995d1561e9",
   "metadata": {},
   "outputs": [],
   "source": [
    "datapath = 'ml-100k/' "
   ]
  },
  {
   "cell_type": "code",
   "execution_count": 3,
   "id": "6ecc1608-5552-4130-92ec-7161880788ba",
   "metadata": {},
   "outputs": [],
   "source": [
    "ratings = pd.read_csv(datapath + 'u.data', sep='\\t', names=['user_id', 'item_id', 'rating', 'timestamp'])"
   ]
  },
  {
   "cell_type": "code",
   "execution_count": 4,
   "id": "a2d7958c-3b22-4612-9d8c-6e0f11ac3375",
   "metadata": {},
   "outputs": [
    {
     "data": {
      "text/html": [
       "<div>\n",
       "<style scoped>\n",
       "    .dataframe tbody tr th:only-of-type {\n",
       "        vertical-align: middle;\n",
       "    }\n",
       "\n",
       "    .dataframe tbody tr th {\n",
       "        vertical-align: top;\n",
       "    }\n",
       "\n",
       "    .dataframe thead th {\n",
       "        text-align: right;\n",
       "    }\n",
       "</style>\n",
       "<table border=\"1\" class=\"dataframe\">\n",
       "  <thead>\n",
       "    <tr style=\"text-align: right;\">\n",
       "      <th></th>\n",
       "      <th>user_id</th>\n",
       "      <th>item_id</th>\n",
       "      <th>rating</th>\n",
       "      <th>timestamp</th>\n",
       "    </tr>\n",
       "  </thead>\n",
       "  <tbody>\n",
       "    <tr>\n",
       "      <th>0</th>\n",
       "      <td>196</td>\n",
       "      <td>242</td>\n",
       "      <td>3</td>\n",
       "      <td>881250949</td>\n",
       "    </tr>\n",
       "    <tr>\n",
       "      <th>1</th>\n",
       "      <td>186</td>\n",
       "      <td>302</td>\n",
       "      <td>3</td>\n",
       "      <td>891717742</td>\n",
       "    </tr>\n",
       "    <tr>\n",
       "      <th>2</th>\n",
       "      <td>22</td>\n",
       "      <td>377</td>\n",
       "      <td>1</td>\n",
       "      <td>878887116</td>\n",
       "    </tr>\n",
       "    <tr>\n",
       "      <th>3</th>\n",
       "      <td>244</td>\n",
       "      <td>51</td>\n",
       "      <td>2</td>\n",
       "      <td>880606923</td>\n",
       "    </tr>\n",
       "    <tr>\n",
       "      <th>4</th>\n",
       "      <td>166</td>\n",
       "      <td>346</td>\n",
       "      <td>1</td>\n",
       "      <td>886397596</td>\n",
       "    </tr>\n",
       "    <tr>\n",
       "      <th>...</th>\n",
       "      <td>...</td>\n",
       "      <td>...</td>\n",
       "      <td>...</td>\n",
       "      <td>...</td>\n",
       "    </tr>\n",
       "    <tr>\n",
       "      <th>99995</th>\n",
       "      <td>880</td>\n",
       "      <td>476</td>\n",
       "      <td>3</td>\n",
       "      <td>880175444</td>\n",
       "    </tr>\n",
       "    <tr>\n",
       "      <th>99996</th>\n",
       "      <td>716</td>\n",
       "      <td>204</td>\n",
       "      <td>5</td>\n",
       "      <td>879795543</td>\n",
       "    </tr>\n",
       "    <tr>\n",
       "      <th>99997</th>\n",
       "      <td>276</td>\n",
       "      <td>1090</td>\n",
       "      <td>1</td>\n",
       "      <td>874795795</td>\n",
       "    </tr>\n",
       "    <tr>\n",
       "      <th>99998</th>\n",
       "      <td>13</td>\n",
       "      <td>225</td>\n",
       "      <td>2</td>\n",
       "      <td>882399156</td>\n",
       "    </tr>\n",
       "    <tr>\n",
       "      <th>99999</th>\n",
       "      <td>12</td>\n",
       "      <td>203</td>\n",
       "      <td>3</td>\n",
       "      <td>879959583</td>\n",
       "    </tr>\n",
       "  </tbody>\n",
       "</table>\n",
       "<p>100000 rows × 4 columns</p>\n",
       "</div>"
      ],
      "text/plain": [
       "       user_id  item_id  rating  timestamp\n",
       "0          196      242       3  881250949\n",
       "1          186      302       3  891717742\n",
       "2           22      377       1  878887116\n",
       "3          244       51       2  880606923\n",
       "4          166      346       1  886397596\n",
       "...        ...      ...     ...        ...\n",
       "99995      880      476       3  880175444\n",
       "99996      716      204       5  879795543\n",
       "99997      276     1090       1  874795795\n",
       "99998       13      225       2  882399156\n",
       "99999       12      203       3  879959583\n",
       "\n",
       "[100000 rows x 4 columns]"
      ]
     },
     "execution_count": 4,
     "metadata": {},
     "output_type": "execute_result"
    }
   ],
   "source": [
    "ratings"
   ]
  },
  {
   "cell_type": "code",
   "execution_count": 5,
   "id": "b8ee008c-a368-47cb-866c-c160f15dec12",
   "metadata": {},
   "outputs": [],
   "source": [
    "# Number of users and items\n",
    "num_users = ratings['user_id'].max()\n",
    "num_items = ratings['item_id'].max()"
   ]
  },
  {
   "cell_type": "code",
   "execution_count": 6,
   "id": "acfa5e11-f6e1-43d8-a8db-3f98a7a75fd9",
   "metadata": {},
   "outputs": [
    {
     "data": {
      "text/plain": [
       "np.int64(943)"
      ]
     },
     "execution_count": 6,
     "metadata": {},
     "output_type": "execute_result"
    }
   ],
   "source": [
    "num_users"
   ]
  },
  {
   "cell_type": "code",
   "execution_count": 7,
   "id": "30e61553-7cd5-4d99-b8b0-67a7b7c2f9b0",
   "metadata": {},
   "outputs": [
    {
     "data": {
      "text/plain": [
       "np.int64(1682)"
      ]
     },
     "execution_count": 7,
     "metadata": {},
     "output_type": "execute_result"
    }
   ],
   "source": [
    "num_items"
   ]
  },
  {
   "cell_type": "code",
   "execution_count": 8,
   "id": "8c4ba7e5-1962-48bc-b8f4-452b3a5906ae",
   "metadata": {},
   "outputs": [],
   "source": [
    "# Create user-item interaction matrix\n",
    "user_item_matrix = np.zeros((num_users, num_items))"
   ]
  },
  {
   "cell_type": "code",
   "execution_count": 9,
   "id": "d7f3949e-676f-4074-a259-a145cfc437c9",
   "metadata": {},
   "outputs": [],
   "source": [
    "# Fill the matrix with ratings\n",
    "for row in ratings.itertuples():\n",
    "    user_item_matrix[row.user_id - 1, row.item_id - 1] = row.rating"
   ]
  },
  {
   "cell_type": "code",
   "execution_count": 10,
   "id": "d4f6520c-0d4b-4143-8f95-2a878d2ad294",
   "metadata": {},
   "outputs": [],
   "source": [
    "# Convert to PyTorch tensor\n",
    "user_item_matrix = torch.FloatTensor(user_item_matrix)"
   ]
  },
  {
   "cell_type": "code",
   "execution_count": 11,
   "id": "d9606132-b70e-4af1-abdc-3df1eb0a786c",
   "metadata": {},
   "outputs": [
    {
     "data": {
      "text/plain": [
       "torch.Size([943, 1682])"
      ]
     },
     "execution_count": 11,
     "metadata": {},
     "output_type": "execute_result"
    }
   ],
   "source": [
    "user_item_matrix.shape"
   ]
  },
  {
   "cell_type": "code",
   "execution_count": 12,
   "id": "c32bfb64-422f-4882-b770-042ebb6f8ad3",
   "metadata": {},
   "outputs": [],
   "source": [
    "# Train-test split\n",
    "train_data, test_data = train_test_split(ratings, test_size=0.2, random_state=102)\n",
    "\n",
    "# Mask for train-test split\n",
    "train_matrix = user_item_matrix.clone()\n",
    "test_matrix = user_item_matrix.clone()"
   ]
  },
  {
   "cell_type": "code",
   "execution_count": 13,
   "id": "1a5aa091-949c-4352-bfab-12b92460f68b",
   "metadata": {},
   "outputs": [
    {
     "data": {
      "text/plain": [
       "(80000, 4)"
      ]
     },
     "execution_count": 13,
     "metadata": {},
     "output_type": "execute_result"
    }
   ],
   "source": [
    "train_data.shape"
   ]
  },
  {
   "cell_type": "code",
   "execution_count": 14,
   "id": "995588b0-4651-4fa6-803b-f2b54483de4f",
   "metadata": {},
   "outputs": [
    {
     "data": {
      "text/plain": [
       "(20000, 4)"
      ]
     },
     "execution_count": 14,
     "metadata": {},
     "output_type": "execute_result"
    }
   ],
   "source": [
    "test_data.shape"
   ]
  },
  {
   "cell_type": "code",
   "execution_count": 15,
   "id": "8dbd93df-8b96-4296-bc23-e1e237e32abc",
   "metadata": {},
   "outputs": [],
   "source": [
    "for row in test_data.itertuples():\n",
    "    train_matrix[row.user_id - 1, row.item_id - 1] = 0  # Mask out test data in train matrix\n",
    "    test_matrix[row.user_id - 1, row.item_id - 1] = row.rating"
   ]
  },
  {
   "cell_type": "code",
   "execution_count": 16,
   "id": "2e435f23-e38b-43e3-8512-72ee3c7dda51",
   "metadata": {},
   "outputs": [
    {
     "data": {
      "text/plain": [
       "tensor([[5., 3., 4.,  ..., 0., 0., 0.],\n",
       "        [4., 0., 0.,  ..., 0., 0., 0.],\n",
       "        [0., 0., 0.,  ..., 0., 0., 0.],\n",
       "        ...,\n",
       "        [0., 0., 0.,  ..., 0., 0., 0.],\n",
       "        [0., 0., 0.,  ..., 0., 0., 0.],\n",
       "        [0., 5., 0.,  ..., 0., 0., 0.]])"
      ]
     },
     "execution_count": 16,
     "metadata": {},
     "output_type": "execute_result"
    }
   ],
   "source": [
    "train_matrix"
   ]
  },
  {
   "cell_type": "code",
   "execution_count": 17,
   "id": "abb24f95-e337-4bc3-80e1-0457cbc240ed",
   "metadata": {},
   "outputs": [
    {
     "data": {
      "text/plain": [
       "tensor([[5., 3., 4.,  ..., 0., 0., 0.],\n",
       "        [4., 0., 0.,  ..., 0., 0., 0.],\n",
       "        [0., 0., 0.,  ..., 0., 0., 0.],\n",
       "        ...,\n",
       "        [5., 0., 0.,  ..., 0., 0., 0.],\n",
       "        [0., 0., 0.,  ..., 0., 0., 0.],\n",
       "        [0., 5., 0.,  ..., 0., 0., 0.]])"
      ]
     },
     "execution_count": 17,
     "metadata": {},
     "output_type": "execute_result"
    }
   ],
   "source": [
    "test_matrix"
   ]
  },
  {
   "cell_type": "code",
   "execution_count": 18,
   "id": "7c166edc-d3f2-40ca-a0c6-6eced393b8d1",
   "metadata": {},
   "outputs": [],
   "source": [
    "class AutoRec(nn.Module):\n",
    "    def __init__(self, num_items, hidden_dim, lambda_):\n",
    "        super(AutoRec, self).__init__()\n",
    "        self.lambda_ = lambda_\n",
    "        self.encoder = nn.Linear(num_items, hidden_dim, bias=True)\n",
    "        self.decoder = nn.Linear(hidden_dim, num_items, bias=True)\n",
    "        self.sigmoid = nn.Sigmoid()\n",
    "\n",
    "    def forward(self, x):\n",
    "        encoded = self.sigmoid(self.encoder(x))\n",
    "        decoded = self.decoder(encoded)\n",
    "        return decoded\n",
    "\n",
    "    def regularization_loss(self):\n",
    "        reg_loss = 0\n",
    "        for param in self.parameters():\n",
    "            reg_loss += param.norm(2)\n",
    "        return self.lambda_ * reg_loss"
   ]
  },
  {
   "cell_type": "code",
   "execution_count": 19,
   "id": "6fd9dbd3-e09b-4f22-8b08-af55ac72a5e6",
   "metadata": {},
   "outputs": [],
   "source": [
    "def train_epoch(model, train_data, optimizer, criterion, batch_size):\n",
    "    model.train()\n",
    "    num_batches = train_data.size(0) // batch_size\n",
    "    total_loss = 0\n",
    "\n",
    "    for i in range(num_batches):\n",
    "        batch = train_data[i * batch_size:(i + 1) * batch_size].to(device)\n",
    "\n",
    "        optimizer.zero_grad()\n",
    "        predictions = model(batch)\n",
    "        mask = batch > 0 \n",
    "        loss = criterion(predictions[mask], batch[mask]) + model.regularization_loss()\n",
    "        loss.backward()\n",
    "        optimizer.step()\n",
    "\n",
    "        total_loss += loss.item()\n",
    "\n",
    "    return total_loss / num_batches\n"
   ]
  },
  {
   "cell_type": "code",
   "execution_count": 20,
   "id": "cdfacb9b-6b8b-4cd2-a892-e3df774669cc",
   "metadata": {},
   "outputs": [],
   "source": [
    "def evaluate_model(model, test_data, criterion, batch_size):\n",
    "    model.eval()\n",
    "    num_batches = test_data.size(0) // batch_size\n",
    "    total_loss = 0\n",
    "\n",
    "    with torch.no_grad():\n",
    "        for i in range(num_batches):\n",
    "            batch = test_data[i * batch_size:(i + 1) * batch_size].to(device)\n",
    "\n",
    "            predictions = model(batch)\n",
    "            mask = batch > 0  # Mask for non-zero ratings\n",
    "            loss = criterion(predictions[mask], batch[mask])\n",
    "            total_loss += loss.item()\n",
    "\n",
    "    return total_loss / num_batches"
   ]
  },
  {
   "cell_type": "code",
   "execution_count": 21,
   "id": "31e1b7fa-a40f-48f1-a2cc-d2c2e4ec38d1",
   "metadata": {},
   "outputs": [],
   "source": [
    "# Hyperparameters\n",
    "hidden_dim = 1000\n",
    "lambda_ = 0.0001\n",
    "learning_rate = 0.001\n",
    "batch_size = 32\n",
    "epochs = 128\n",
    "device = 'cuda' if torch.cuda.is_available() else 'cpu'"
   ]
  },
  {
   "cell_type": "code",
   "execution_count": 22,
   "id": "4508c600-6147-4878-a56c-f5963953ea21",
   "metadata": {},
   "outputs": [],
   "source": [
    "# Initialize model, optimizer, and loss function\n",
    "model = AutoRec(num_items, hidden_dim, lambda_).to(device)\n",
    "optimizer = torch.optim.Adam(model.parameters(), lr=learning_rate, amsgrad=True)\n",
    "criterion = nn.MSELoss()"
   ]
  },
  {
   "cell_type": "code",
   "execution_count": 23,
   "id": "30684490-c2c9-44f9-9596-479955f15bb4",
   "metadata": {},
   "outputs": [],
   "source": [
    "train_tensor = train_matrix.to(device)\n",
    "test_tensor = test_matrix.to(device)"
   ]
  },
  {
   "cell_type": "code",
   "execution_count": 24,
   "id": "26374514-f58a-4169-97f7-b0b4d286d68a",
   "metadata": {},
   "outputs": [],
   "source": [
    "train_losses, test_losses = [], []"
   ]
  },
  {
   "cell_type": "code",
   "execution_count": 25,
   "id": "f35f4af3-2aaf-4ddb-baa8-de703e4c2768",
   "metadata": {},
   "outputs": [
    {
     "name": "stdout",
     "output_type": "stream",
     "text": [
      "Epoch 1/128, Train Loss: 2.8758, Test Loss: 1.1498\n",
      "Epoch 2/128, Train Loss: 1.1642, Test Loss: 1.0509\n",
      "Epoch 3/128, Train Loss: 1.0476, Test Loss: 0.9730\n",
      "Epoch 4/128, Train Loss: 0.9489, Test Loss: 0.8969\n",
      "Epoch 5/128, Train Loss: 0.8538, Test Loss: 0.8345\n",
      "Epoch 6/128, Train Loss: 0.7666, Test Loss: 0.7723\n",
      "Epoch 7/128, Train Loss: 0.6873, Test Loss: 0.7465\n",
      "Epoch 8/128, Train Loss: 0.6228, Test Loss: 0.7431\n",
      "Epoch 9/128, Train Loss: 0.6023, Test Loss: 1.0213\n",
      "Epoch 10/128, Train Loss: 0.6443, Test Loss: 1.3708\n",
      "Epoch 11/128, Train Loss: 0.8598, Test Loss: 0.7559\n",
      "Epoch 12/128, Train Loss: 0.5770, Test Loss: 0.5848\n",
      "Epoch 13/128, Train Loss: 0.4079, Test Loss: 0.5142\n",
      "Epoch 14/128, Train Loss: 0.3726, Test Loss: 0.4935\n",
      "Epoch 15/128, Train Loss: 0.3207, Test Loss: 0.4911\n",
      "Epoch 16/128, Train Loss: 0.2845, Test Loss: 0.4762\n",
      "Epoch 17/128, Train Loss: 0.2600, Test Loss: 0.4506\n",
      "Epoch 18/128, Train Loss: 0.2392, Test Loss: 0.4542\n",
      "Epoch 19/128, Train Loss: 0.2199, Test Loss: 0.5053\n",
      "Epoch 20/128, Train Loss: 0.2093, Test Loss: 0.5442\n",
      "Epoch 21/128, Train Loss: 0.2112, Test Loss: 0.4314\n",
      "Epoch 22/128, Train Loss: 0.2317, Test Loss: 0.4612\n",
      "Epoch 23/128, Train Loss: 0.2615, Test Loss: 0.4922\n",
      "Epoch 24/128, Train Loss: 0.2325, Test Loss: 0.5215\n",
      "Epoch 25/128, Train Loss: 0.2177, Test Loss: 0.5246\n",
      "Epoch 26/128, Train Loss: 0.2162, Test Loss: 0.5444\n",
      "Epoch 27/128, Train Loss: 0.2312, Test Loss: 0.5416\n",
      "Epoch 28/128, Train Loss: 0.2232, Test Loss: 0.6407\n",
      "Epoch 29/128, Train Loss: 0.2290, Test Loss: 0.8447\n",
      "Epoch 30/128, Train Loss: 0.2662, Test Loss: 0.8488\n",
      "Epoch 31/128, Train Loss: 0.3022, Test Loss: 0.9141\n",
      "Epoch 32/128, Train Loss: 0.3188, Test Loss: 1.1717\n",
      "Epoch 33/128, Train Loss: 0.3494, Test Loss: 1.1328\n",
      "Epoch 34/128, Train Loss: 0.4010, Test Loss: 0.9536\n",
      "Epoch 35/128, Train Loss: 0.4265, Test Loss: 0.8795\n",
      "Epoch 36/128, Train Loss: 0.4420, Test Loss: 0.8469\n",
      "Epoch 37/128, Train Loss: 0.4696, Test Loss: 1.0164\n",
      "Epoch 38/128, Train Loss: 0.5257, Test Loss: 1.1911\n",
      "Epoch 39/128, Train Loss: 0.5338, Test Loss: 1.0989\n",
      "Epoch 40/128, Train Loss: 0.5122, Test Loss: 0.7228\n",
      "Epoch 41/128, Train Loss: 0.4055, Test Loss: 0.5466\n",
      "Epoch 42/128, Train Loss: 0.2786, Test Loss: 0.4775\n",
      "Epoch 43/128, Train Loss: 0.1979, Test Loss: 0.3842\n",
      "Epoch 44/128, Train Loss: 0.1478, Test Loss: 0.3357\n",
      "Epoch 45/128, Train Loss: 0.1122, Test Loss: 0.3289\n",
      "Epoch 46/128, Train Loss: 0.0897, Test Loss: 0.3278\n",
      "Epoch 47/128, Train Loss: 0.0765, Test Loss: 0.3156\n",
      "Epoch 48/128, Train Loss: 0.0671, Test Loss: 0.2981\n",
      "Epoch 49/128, Train Loss: 0.0595, Test Loss: 0.2822\n",
      "Epoch 50/128, Train Loss: 0.0535, Test Loss: 0.2705\n",
      "Epoch 51/128, Train Loss: 0.0487, Test Loss: 0.2628\n",
      "Epoch 52/128, Train Loss: 0.0451, Test Loss: 0.2601\n",
      "Epoch 53/128, Train Loss: 0.0426, Test Loss: 0.2604\n",
      "Epoch 54/128, Train Loss: 0.0408, Test Loss: 0.2614\n",
      "Epoch 55/128, Train Loss: 0.0394, Test Loss: 0.2615\n",
      "Epoch 56/128, Train Loss: 0.0383, Test Loss: 0.2628\n",
      "Epoch 57/128, Train Loss: 0.0376, Test Loss: 0.2655\n",
      "Epoch 58/128, Train Loss: 0.0371, Test Loss: 0.2699\n",
      "Epoch 59/128, Train Loss: 0.0369, Test Loss: 0.2725\n",
      "Epoch 60/128, Train Loss: 0.0367, Test Loss: 0.2713\n",
      "Epoch 61/128, Train Loss: 0.0363, Test Loss: 0.2661\n",
      "Epoch 62/128, Train Loss: 0.0355, Test Loss: 0.2615\n",
      "Epoch 63/128, Train Loss: 0.0348, Test Loss: 0.2601\n",
      "Epoch 64/128, Train Loss: 0.0345, Test Loss: 0.2629\n",
      "Epoch 65/128, Train Loss: 0.0349, Test Loss: 0.2665\n",
      "Epoch 66/128, Train Loss: 0.0357, Test Loss: 0.2689\n",
      "Epoch 67/128, Train Loss: 0.0370, Test Loss: 0.2699\n",
      "Epoch 68/128, Train Loss: 0.0384, Test Loss: 0.2739\n",
      "Epoch 69/128, Train Loss: 0.0400, Test Loss: 0.2825\n",
      "Epoch 70/128, Train Loss: 0.0419, Test Loss: 0.2938\n",
      "Epoch 71/128, Train Loss: 0.0439, Test Loss: 0.3003\n",
      "Epoch 72/128, Train Loss: 0.0452, Test Loss: 0.3013\n",
      "Epoch 73/128, Train Loss: 0.0455, Test Loss: 0.2979\n",
      "Epoch 74/128, Train Loss: 0.0451, Test Loss: 0.2945\n",
      "Epoch 75/128, Train Loss: 0.0450, Test Loss: 0.2900\n",
      "Epoch 76/128, Train Loss: 0.0454, Test Loss: 0.2845\n",
      "Epoch 77/128, Train Loss: 0.0459, Test Loss: 0.2782\n",
      "Epoch 78/128, Train Loss: 0.0462, Test Loss: 0.2754\n",
      "Epoch 79/128, Train Loss: 0.0459, Test Loss: 0.2791\n",
      "Epoch 80/128, Train Loss: 0.0453, Test Loss: 0.2909\n",
      "Epoch 81/128, Train Loss: 0.0446, Test Loss: 0.3035\n",
      "Epoch 82/128, Train Loss: 0.0441, Test Loss: 0.3101\n",
      "Epoch 83/128, Train Loss: 0.0432, Test Loss: 0.3044\n",
      "Epoch 84/128, Train Loss: 0.0411, Test Loss: 0.2936\n",
      "Epoch 85/128, Train Loss: 0.0382, Test Loss: 0.2817\n",
      "Epoch 86/128, Train Loss: 0.0356, Test Loss: 0.2758\n",
      "Epoch 87/128, Train Loss: 0.0341, Test Loss: 0.2719\n",
      "Epoch 88/128, Train Loss: 0.0335, Test Loss: 0.2697\n",
      "Epoch 89/128, Train Loss: 0.0329, Test Loss: 0.2667\n",
      "Epoch 90/128, Train Loss: 0.0321, Test Loss: 0.2684\n",
      "Epoch 91/128, Train Loss: 0.0312, Test Loss: 0.2765\n",
      "Epoch 92/128, Train Loss: 0.0309, Test Loss: 0.2887\n",
      "Epoch 93/128, Train Loss: 0.0313, Test Loss: 0.2936\n",
      "Epoch 94/128, Train Loss: 0.0319, Test Loss: 0.2888\n",
      "Epoch 95/128, Train Loss: 0.0316, Test Loss: 0.2763\n",
      "Epoch 96/128, Train Loss: 0.0305, Test Loss: 0.2666\n",
      "Epoch 97/128, Train Loss: 0.0296, Test Loss: 0.2628\n",
      "Epoch 98/128, Train Loss: 0.0295, Test Loss: 0.2636\n",
      "Epoch 99/128, Train Loss: 0.0298, Test Loss: 0.2647\n",
      "Epoch 100/128, Train Loss: 0.0299, Test Loss: 0.2672\n",
      "Epoch 101/128, Train Loss: 0.0295, Test Loss: 0.2749\n",
      "Epoch 102/128, Train Loss: 0.0288, Test Loss: 0.2899\n",
      "Epoch 103/128, Train Loss: 0.0287, Test Loss: 0.3035\n",
      "Epoch 104/128, Train Loss: 0.0293, Test Loss: 0.3064\n",
      "Epoch 105/128, Train Loss: 0.0299, Test Loss: 0.2971\n",
      "Epoch 106/128, Train Loss: 0.0297, Test Loss: 0.2819\n",
      "Epoch 107/128, Train Loss: 0.0291, Test Loss: 0.2687\n",
      "Epoch 108/128, Train Loss: 0.0290, Test Loss: 0.2614\n",
      "Epoch 109/128, Train Loss: 0.0296, Test Loss: 0.2588\n",
      "Epoch 110/128, Train Loss: 0.0300, Test Loss: 0.2606\n",
      "Epoch 111/128, Train Loss: 0.0300, Test Loss: 0.2669\n",
      "Epoch 112/128, Train Loss: 0.0293, Test Loss: 0.2765\n",
      "Epoch 113/128, Train Loss: 0.0287, Test Loss: 0.2856\n",
      "Epoch 114/128, Train Loss: 0.0281, Test Loss: 0.2899\n",
      "Epoch 115/128, Train Loss: 0.0276, Test Loss: 0.2858\n",
      "Epoch 116/128, Train Loss: 0.0262, Test Loss: 0.2751\n",
      "Epoch 117/128, Train Loss: 0.0240, Test Loss: 0.2643\n",
      "Epoch 118/128, Train Loss: 0.0218, Test Loss: 0.2577\n",
      "Epoch 119/128, Train Loss: 0.0200, Test Loss: 0.2558\n",
      "Epoch 120/128, Train Loss: 0.0188, Test Loss: 0.2567\n",
      "Epoch 121/128, Train Loss: 0.0179, Test Loss: 0.2607\n",
      "Epoch 122/128, Train Loss: 0.0171, Test Loss: 0.2668\n",
      "Epoch 123/128, Train Loss: 0.0165, Test Loss: 0.2717\n",
      "Epoch 124/128, Train Loss: 0.0162, Test Loss: 0.2705\n",
      "Epoch 125/128, Train Loss: 0.0160, Test Loss: 0.2638\n",
      "Epoch 126/128, Train Loss: 0.0159, Test Loss: 0.2546\n",
      "Epoch 127/128, Train Loss: 0.0158, Test Loss: 0.2481\n",
      "Epoch 128/128, Train Loss: 0.0159, Test Loss: 0.2457\n"
     ]
    }
   ],
   "source": [
    "for epoch in range(epochs):\n",
    "    train_loss = train_epoch(model, train_tensor, optimizer, criterion, batch_size)\n",
    "    test_loss = evaluate_model(model, test_tensor, criterion, batch_size)\n",
    "\n",
    "    train_losses.append(train_loss)\n",
    "    test_losses.append(test_loss)\n",
    "\n",
    "    print(f\"Epoch {epoch + 1}/{epochs}, Train Loss: {train_loss:.4f}, Test Loss: {test_loss:.4f}\")"
   ]
  },
  {
   "cell_type": "code",
   "execution_count": 26,
   "id": "087546d4-bd03-4c86-a67a-ce608877e2e7",
   "metadata": {},
   "outputs": [
    {
     "data": {
      "image/png": "[encoded data removed]",
      "text/plain": [
       "<Figure size 640x480 with 1 Axes>"
      ]
     },
     "metadata": {},
     "output_type": "display_data"
    }
   ],
   "source": [
    "# Plot losses\n",
    "plt.plot(train_losses, label='Train Loss')\n",
    "plt.plot(test_losses, label='Test Loss')\n",
    "plt.xlabel('Epoch')\n",
    "plt.ylabel('Loss')\n",
    "plt.title('Training and Testing Loss')\n",
    "plt.show()"
   ]
  },
  {
   "cell_type": "code",
   "execution_count": 27,
   "id": "13142f86-f29e-4376-96e1-e9cac7baa52f",
   "metadata": {},
   "outputs": [],
   "source": [
    "def calculate_rmse(model, data, batch_size):\n",
    "    model.eval()\n",
    "    num_batches = data.size(0) // batch_size\n",
    "    mse = 0\n",
    "    total_ratings = 0\n",
    "\n",
    "    with torch.no_grad():\n",
    "        for i in range(num_batches):\n",
    "            batch = data[i * batch_size:(i + 1) * batch_size].to(device)\n",
    "            predictions = model(batch)\n",
    "            mask = batch > 0\n",
    "            mse += ((predictions[mask] - batch[mask]) ** 2).sum().item()\n",
    "            total_ratings += mask.sum().item()\n",
    "\n",
    "    return np.sqrt(mse / total_ratings)"
   ]
  },
  {
   "cell_type": "code",
   "execution_count": 28,
   "id": "609f2cda-0ed4-4017-9414-398f3aa9851e",
   "metadata": {},
   "outputs": [
    {
     "name": "stdout",
     "output_type": "stream",
     "text": [
      "Test RMSE: 0.4955\n"
     ]
    }
   ],
   "source": [
    "rmse = calculate_rmse(model, test_tensor, batch_size)\n",
    "print(f\"Test RMSE: {rmse:.4f}\")"
   ]
  },
  {
   "cell_type": "markdown",
   "id": "28605f42-2de6-4ce0-abb9-888a5e0b32ab",
   "metadata": {},
   "source": [
    "# Choosing hyperparameters\n",
    "\n",
    "Best combination in 50 epochs with ADAM is:\n",
    "{'hidden_dim': 1000, 'lambda_': 0.0001, 'learning_rate': 0.001, 'batch_size': 32, 'betas': (0.9, 0.99), 'eps': 1e-07, 'amsgrad': True}\n",
    "\n",
    "Best RMSE: 0.5019\n"
   ]
  },
  {
   "cell_type": "code",
   "execution_count": 29,
   "id": "2d5c70c4-be59-4c9e-b399-064c4169f197",
   "metadata": {},
   "outputs": [],
   "source": [
    "# import itertools\n",
    "\n",
    "# param_grid = {\n",
    "#     'hidden_dim': [100, 500, 1000],\n",
    "#     'lambda_': [0.0001, 0.001],\n",
    "#     'learning_rate': [0.01, 0.001, 0.015],\n",
    "#     'batch_size': [32, 64, 128, 256, 512],\n",
    "#     'betas': [(0.9, 0.999), (0.9, 0.99), (0.8, 0.999)],\n",
    "#     'eps': [1e-8, 1e-7, 1e-6],\n",
    "#     'amsgrad': [False, True],\n",
    "# }\n",
    "\n",
    "# param_combinations = list(itertools.product(*param_grid.values()))\n",
    "\n",
    "# def train_and_evaluate(params, train_matrix, test_matrix):\n",
    "#     # Unpack parameters\n",
    "#     hidden_dim, lambda_, learning_rate, batch_size, betas, eps, amsgrad = params\n",
    "\n",
    "#     model = AutoRec(num_items, hidden_dim, lambda_).to(device)\n",
    "#     optimizer = torch.optim.Adam(\n",
    "#         model.parameters(),\n",
    "#         lr=learning_rate,\n",
    "#         betas=betas,\n",
    "#         eps=eps,\n",
    "#         amsgrad=amsgrad\n",
    "#     )\n",
    "#     criterion = nn.MSELoss()\n",
    "    \n",
    "#     train_tensor = train_matrix.to(device)\n",
    "#     test_tensor = test_matrix.to(device)\n",
    "\n",
    "#     for epoch in range(50):\n",
    "#         train_epoch(model, train_tensor, optimizer, criterion, batch_size)\n",
    "\n",
    "#     rmse = calculate_rmse(model, test_tensor, batch_size)\n",
    "#     return rmse\n",
    "\n",
    "# best_params = None\n",
    "# best_rmse = float('inf')\n",
    "\n",
    "# for i, params in enumerate(param_combinations):\n",
    "#     print(f\"Testing combination {i+1}/{len(param_combinations)}: {params}\")\n",
    "#     rmse = train_and_evaluate(params, train_matrix, test_matrix)\n",
    "    \n",
    "#     print(f\"RMSE: {rmse:.4f}\")\n",
    "    \n",
    "#     if rmse < best_rmse:\n",
    "#         best_rmse = rmse\n",
    "#         best_params = params\n",
    "\n",
    "# best_param_dict = dict(zip(param_grid.keys(), best_params))\n",
    "# print(f\"\\nBest Hyperparameters: {best_param_dict}\")\n",
    "# print(f\"Best RMSE: {best_rmse:.4f}\")\n"
   ]
  }
 ],
 "metadata": {
  "kernelspec": {
   "display_name": "Python 3 (ipykernel)",
   "language": "python",
   "name": "python3"
  },
  "language_info": {
   "codemirror_mode": {
    "name": "ipython",
    "version": 3
   },
   "file_extension": ".py",
   "mimetype": "text/x-python",
   "name": "python",
   "nbconvert_exporter": "python",
   "pygments_lexer": "ipython3",
   "version": "3.12.4"
  }
 },
 "nbformat": 4,
 "nbformat_minor": 5
}
