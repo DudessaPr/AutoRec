{
 "cells": [
  {
   "cell_type": "code",
   "execution_count": 1,
   "id": "41553602-9d19-4198-a85e-58e241a75648",
   "metadata": {},
   "outputs": [],
   "source": [
    "import pandas as pd\n",
    "import numpy as np\n",
    "import torch\n",
    "from torch import nn\n",
    "from sklearn.model_selection import train_test_split\n",
    "import matplotlib.pyplot as plt"
   ]
  },
  {
   "cell_type": "code",
   "execution_count": 2,
   "id": "dcf5685b-ba0b-40ff-93fe-b254355367d6",
   "metadata": {},
   "outputs": [],
   "source": [
    "ratings_path = \"ml-latest-small/ratings.csv\"\n",
    "ratings = pd.read_csv(ratings_path)"
   ]
  },
  {
   "cell_type": "code",
   "execution_count": 3,
   "id": "b3b1c901-0810-4982-a3b5-a14d6ce4924c",
   "metadata": {},
   "outputs": [
    {
     "data": {
      "text/html": [
       "<div>\n",
       "<style scoped>\n",
       "    .dataframe tbody tr th:only-of-type {\n",
       "        vertical-align: middle;\n",
       "    }\n",
       "\n",
       "    .dataframe tbody tr th {\n",
       "        vertical-align: top;\n",
       "    }\n",
       "\n",
       "    .dataframe thead th {\n",
       "        text-align: right;\n",
       "    }\n",
       "</style>\n",
       "<table border=\"1\" class=\"dataframe\">\n",
       "  <thead>\n",
       "    <tr style=\"text-align: right;\">\n",
       "      <th></th>\n",
       "      <th>userId</th>\n",
       "      <th>movieId</th>\n",
       "      <th>rating</th>\n",
       "      <th>timestamp</th>\n",
       "    </tr>\n",
       "  </thead>\n",
       "  <tbody>\n",
       "    <tr>\n",
       "      <th>0</th>\n",
       "      <td>1</td>\n",
       "      <td>1</td>\n",
       "      <td>4.0</td>\n",
       "      <td>964982703</td>\n",
       "    </tr>\n",
       "    <tr>\n",
       "      <th>1</th>\n",
       "      <td>1</td>\n",
       "      <td>3</td>\n",
       "      <td>4.0</td>\n",
       "      <td>964981247</td>\n",
       "    </tr>\n",
       "    <tr>\n",
       "      <th>2</th>\n",
       "      <td>1</td>\n",
       "      <td>6</td>\n",
       "      <td>4.0</td>\n",
       "      <td>964982224</td>\n",
       "    </tr>\n",
       "    <tr>\n",
       "      <th>3</th>\n",
       "      <td>1</td>\n",
       "      <td>47</td>\n",
       "      <td>5.0</td>\n",
       "      <td>964983815</td>\n",
       "    </tr>\n",
       "    <tr>\n",
       "      <th>4</th>\n",
       "      <td>1</td>\n",
       "      <td>50</td>\n",
       "      <td>5.0</td>\n",
       "      <td>964982931</td>\n",
       "    </tr>\n",
       "    <tr>\n",
       "      <th>...</th>\n",
       "      <td>...</td>\n",
       "      <td>...</td>\n",
       "      <td>...</td>\n",
       "      <td>...</td>\n",
       "    </tr>\n",
       "    <tr>\n",
       "      <th>100831</th>\n",
       "      <td>610</td>\n",
       "      <td>166534</td>\n",
       "      <td>4.0</td>\n",
       "      <td>1493848402</td>\n",
       "    </tr>\n",
       "    <tr>\n",
       "      <th>100832</th>\n",
       "      <td>610</td>\n",
       "      <td>168248</td>\n",
       "      <td>5.0</td>\n",
       "      <td>1493850091</td>\n",
       "    </tr>\n",
       "    <tr>\n",
       "      <th>100833</th>\n",
       "      <td>610</td>\n",
       "      <td>168250</td>\n",
       "      <td>5.0</td>\n",
       "      <td>1494273047</td>\n",
       "    </tr>\n",
       "    <tr>\n",
       "      <th>100834</th>\n",
       "      <td>610</td>\n",
       "      <td>168252</td>\n",
       "      <td>5.0</td>\n",
       "      <td>1493846352</td>\n",
       "    </tr>\n",
       "    <tr>\n",
       "      <th>100835</th>\n",
       "      <td>610</td>\n",
       "      <td>170875</td>\n",
       "      <td>3.0</td>\n",
       "      <td>1493846415</td>\n",
       "    </tr>\n",
       "  </tbody>\n",
       "</table>\n",
       "<p>100836 rows × 4 columns</p>\n",
       "</div>"
      ],
      "text/plain": [
       "        userId  movieId  rating   timestamp\n",
       "0            1        1     4.0   964982703\n",
       "1            1        3     4.0   964981247\n",
       "2            1        6     4.0   964982224\n",
       "3            1       47     5.0   964983815\n",
       "4            1       50     5.0   964982931\n",
       "...        ...      ...     ...         ...\n",
       "100831     610   166534     4.0  1493848402\n",
       "100832     610   168248     5.0  1493850091\n",
       "100833     610   168250     5.0  1494273047\n",
       "100834     610   168252     5.0  1493846352\n",
       "100835     610   170875     3.0  1493846415\n",
       "\n",
       "[100836 rows x 4 columns]"
      ]
     },
     "execution_count": 3,
     "metadata": {},
     "output_type": "execute_result"
    }
   ],
   "source": [
    "ratings"
   ]
  },
  {
   "cell_type": "code",
   "execution_count": 4,
   "id": "6ecc1608-5552-4130-92ec-7161880788ba",
   "metadata": {},
   "outputs": [],
   "source": [
    "user_mapping = {user_id: idx for idx, user_id in enumerate(ratings['userId'].unique())}\n",
    "movie_mapping = {movie_id: idx for idx, movie_id in enumerate(ratings['movieId'].unique())}"
   ]
  },
  {
   "cell_type": "code",
   "execution_count": 5,
   "id": "a2d7958c-3b22-4612-9d8c-6e0f11ac3375",
   "metadata": {},
   "outputs": [],
   "source": [
    "ratings['userId'] = ratings['userId'].map(user_mapping)\n",
    "ratings['movieId'] = ratings['movieId'].map(movie_mapping)"
   ]
  },
  {
   "cell_type": "code",
   "execution_count": 6,
   "id": "f08a2387-ab93-4bbb-ab54-a2669c6cb087",
   "metadata": {},
   "outputs": [],
   "source": [
    "# Number of users and movies\n",
    "num_users = len(user_mapping)\n",
    "num_movies = len(movie_mapping)"
   ]
  },
  {
   "cell_type": "code",
   "execution_count": 7,
   "id": "acfa5e11-f6e1-43d8-a8db-3f98a7a75fd9",
   "metadata": {},
   "outputs": [
    {
     "data": {
      "text/plain": [
       "610"
      ]
     },
     "execution_count": 7,
     "metadata": {},
     "output_type": "execute_result"
    }
   ],
   "source": [
    "num_users"
   ]
  },
  {
   "cell_type": "code",
   "execution_count": 8,
   "id": "30e61553-7cd5-4d99-b8b0-67a7b7c2f9b0",
   "metadata": {},
   "outputs": [
    {
     "data": {
      "text/plain": [
       "9724"
      ]
     },
     "execution_count": 8,
     "metadata": {},
     "output_type": "execute_result"
    }
   ],
   "source": [
    "num_movies"
   ]
  },
  {
   "cell_type": "code",
   "execution_count": 9,
   "id": "8c4ba7e5-1962-48bc-b8f4-452b3a5906ae",
   "metadata": {},
   "outputs": [],
   "source": [
    "# Create user-item interaction matrix\n",
    "full_matrix = torch.zeros((num_users, num_movies))\n",
    "user_item_matrix = torch.zeros((num_users, num_movies))"
   ]
  },
  {
   "cell_type": "code",
   "execution_count": 10,
   "id": "d7f3949e-676f-4074-a259-a145cfc437c9",
   "metadata": {},
   "outputs": [],
   "source": [
    "for row in ratings.itertuples():\n",
    "    full_matrix[row.userId, row.movieId] = row.rating"
   ]
  },
  {
   "cell_type": "code",
   "execution_count": 11,
   "id": "d4f6520c-0d4b-4143-8f95-2a878d2ad294",
   "metadata": {},
   "outputs": [],
   "source": [
    "# Convert to PyTorch tensor\n",
    "user_item_matrix = torch.FloatTensor(user_item_matrix)\n",
    "full_matrix = torch.FloatTensor(full_matrix)"
   ]
  },
  {
   "cell_type": "code",
   "execution_count": 12,
   "id": "d9606132-b70e-4af1-abdc-3df1eb0a786c",
   "metadata": {},
   "outputs": [
    {
     "data": {
      "text/plain": [
       "torch.Size([610, 9724])"
      ]
     },
     "execution_count": 12,
     "metadata": {},
     "output_type": "execute_result"
    }
   ],
   "source": [
    "user_item_matrix.shape"
   ]
  },
  {
   "cell_type": "code",
   "execution_count": 13,
   "id": "f72e2503-89db-4fe6-b027-d453fcef26f0",
   "metadata": {},
   "outputs": [
    {
     "data": {
      "text/plain": [
       "tensor([[0., 0., 0.,  ..., 0., 0., 0.],\n",
       "        [0., 0., 0.,  ..., 0., 0., 0.],\n",
       "        [0., 0., 0.,  ..., 0., 0., 0.],\n",
       "        ...,\n",
       "        [0., 0., 0.,  ..., 0., 0., 0.],\n",
       "        [0., 0., 0.,  ..., 0., 0., 0.],\n",
       "        [0., 0., 0.,  ..., 0., 0., 0.]])"
      ]
     },
     "execution_count": 13,
     "metadata": {},
     "output_type": "execute_result"
    }
   ],
   "source": [
    "user_item_matrix"
   ]
  },
  {
   "cell_type": "code",
   "execution_count": 14,
   "id": "21365cbe-ccf9-4e4d-af3e-a8c2f032c5a9",
   "metadata": {
    "scrolled": true
   },
   "outputs": [
    {
     "data": {
      "text/plain": [
       "tensor([[4.0000, 4.0000, 4.0000,  ..., 0.0000, 0.0000, 0.0000],\n",
       "        [0.0000, 0.0000, 0.0000,  ..., 0.0000, 0.0000, 0.0000],\n",
       "        [0.0000, 0.0000, 0.0000,  ..., 0.0000, 0.0000, 0.0000],\n",
       "        ...,\n",
       "        [2.5000, 2.0000, 0.0000,  ..., 0.0000, 0.0000, 0.0000],\n",
       "        [3.0000, 0.0000, 0.0000,  ..., 0.0000, 0.0000, 0.0000],\n",
       "        [5.0000, 0.0000, 5.0000,  ..., 3.0000, 3.5000, 3.5000]])"
      ]
     },
     "execution_count": 14,
     "metadata": {},
     "output_type": "execute_result"
    }
   ],
   "source": [
    "full_matrix"
   ]
  },
  {
   "cell_type": "code",
   "execution_count": 15,
   "id": "d2d6bfa9-8c13-4d65-85dd-079206553ed5",
   "metadata": {},
   "outputs": [],
   "source": [
    "# Split users into train/val and test groups\n",
    "users = ratings['userId'].unique()\n",
    "train_val_users, test_users = train_test_split(users, test_size=0.2, random_state=77)\n",
    "\n",
    "# Create train/val and test dataframes based on the user split\n",
    "train_val_data = ratings[ratings['userId'].isin(train_val_users)].reset_index(drop=True)\n",
    "test_data = ratings[ratings['userId'].isin(test_users)].reset_index(drop=True)"
   ]
  },
  {
   "cell_type": "code",
   "execution_count": 16,
   "id": "d0b3611c-a045-459c-bb36-462c43e107bf",
   "metadata": {},
   "outputs": [],
   "source": [
    "train_data, val_data = train_test_split(train_val_data, test_size=0.2, random_state=78)"
   ]
  },
  {
   "cell_type": "code",
   "execution_count": 17,
   "id": "046fc374-cad3-4146-b084-fdcbb73eef14",
   "metadata": {},
   "outputs": [],
   "source": [
    "# Create user-item interaction matrices\n",
    "train_matrix = torch.zeros((num_users, num_movies))\n",
    "val_matrix = torch.zeros((num_users, num_movies))\n",
    "test_matrix = torch.zeros((num_users, num_movies))\n",
    "\n",
    "# Populate the train matrix\n",
    "for row in train_data.itertuples():\n",
    "    train_matrix[row.userId, row.movieId] = row.rating\n",
    "\n",
    "# Populate the val matrix\n",
    "for row in val_data.itertuples():\n",
    "    val_matrix[row.userId, row.movieId] = row.rating\n",
    "\n",
    "# Populate the test matrix\n",
    "for row in test_data.itertuples():\n",
    "    test_matrix[row.userId, row.movieId] = row.rating"
   ]
  },
  {
   "cell_type": "code",
   "execution_count": 18,
   "id": "1a5aa091-949c-4352-bfab-12b92460f68b",
   "metadata": {},
   "outputs": [
    {
     "data": {
      "text/plain": [
       "(65712, 4)"
      ]
     },
     "execution_count": 18,
     "metadata": {},
     "output_type": "execute_result"
    }
   ],
   "source": [
    "train_data.shape"
   ]
  },
  {
   "cell_type": "code",
   "execution_count": 19,
   "id": "995588b0-4651-4fa6-803b-f2b54483de4f",
   "metadata": {},
   "outputs": [
    {
     "data": {
      "text/plain": [
       "(18696, 4)"
      ]
     },
     "execution_count": 19,
     "metadata": {},
     "output_type": "execute_result"
    }
   ],
   "source": [
    "test_data.shape"
   ]
  },
  {
   "cell_type": "code",
   "execution_count": 20,
   "id": "0f9bd397-628f-443f-b18a-20be98dd9313",
   "metadata": {},
   "outputs": [
    {
     "data": {
      "text/plain": [
       "(16428, 4)"
      ]
     },
     "execution_count": 20,
     "metadata": {},
     "output_type": "execute_result"
    }
   ],
   "source": [
    "val_data.shape"
   ]
  },
  {
   "cell_type": "code",
   "execution_count": 21,
   "id": "2e435f23-e38b-43e3-8512-72ee3c7dda51",
   "metadata": {},
   "outputs": [
    {
     "data": {
      "text/plain": [
       "torch.Size([610, 9724])"
      ]
     },
     "execution_count": 21,
     "metadata": {},
     "output_type": "execute_result"
    }
   ],
   "source": [
    "train_matrix.shape"
   ]
  },
  {
   "cell_type": "code",
   "execution_count": 22,
   "id": "abb24f95-e337-4bc3-80e1-0457cbc240ed",
   "metadata": {},
   "outputs": [
    {
     "data": {
      "text/plain": [
       "torch.Size([610, 9724])"
      ]
     },
     "execution_count": 22,
     "metadata": {},
     "output_type": "execute_result"
    }
   ],
   "source": [
    "test_matrix.shape"
   ]
  },
  {
   "cell_type": "code",
   "execution_count": 23,
   "id": "8147c07a-d00c-4f29-ab9a-cb3673673212",
   "metadata": {},
   "outputs": [
    {
     "data": {
      "text/plain": [
       "torch.Size([610, 9724])"
      ]
     },
     "execution_count": 23,
     "metadata": {},
     "output_type": "execute_result"
    }
   ],
   "source": [
    "val_matrix.shape"
   ]
  },
  {
   "cell_type": "code",
   "execution_count": 24,
   "id": "7c166edc-d3f2-40ca-a0c6-6eced393b8d1",
   "metadata": {},
   "outputs": [],
   "source": [
    "class AutoRec(nn.Module):\n",
    "    def __init__(self, num_items, hidden_dim, lambda_, dropout_prob=0.2):\n",
    "        super(AutoRec, self).__init__()\n",
    "        self.lambda_ = lambda_\n",
    "        self.encoder = nn.Linear(num_items, hidden_dim, bias=True)\n",
    "        self.decoder = nn.Linear(hidden_dim, num_items, bias=True)\n",
    "        self.sigmoid = nn.Sigmoid()\n",
    "        self.dropout = nn.Dropout(p=dropout_prob)\n",
    "\n",
    "    def forward(self, x):\n",
    "        encoded = self.sigmoid(self.dropout(self.encoder(x)))\n",
    "        decoded = self.decoder(encoded)\n",
    "        return decoded\n",
    "\n",
    "    def regularization_loss(self):\n",
    "        reg_loss = 0\n",
    "        for param in self.parameters():\n",
    "            reg_loss += param.norm(2)\n",
    "        return self.lambda_ * reg_loss"
   ]
  },
  {
   "cell_type": "code",
   "execution_count": 25,
   "id": "6fd9dbd3-e09b-4f22-8b08-af55ac72a5e6",
   "metadata": {},
   "outputs": [],
   "source": [
    "def train_epoch(model, train_data, optimizer, criterion, batch_size):\n",
    "    model.train()\n",
    "    num_batches = train_data.size(0) // batch_size\n",
    "    total_loss = 0\n",
    "\n",
    "    for i in range(num_batches):\n",
    "        batch = train_data[i * batch_size:(i + 1) * batch_size].to(device)\n",
    "\n",
    "        optimizer.zero_grad()\n",
    "        predictions = model(batch)\n",
    "        mask = batch > 0 \n",
    "        # loss = criterion(predictions[mask], batch[mask]) + model.regularization_loss()\n",
    "        loss = criterion(predictions[mask], batch[mask])\n",
    "        loss.backward()\n",
    "        optimizer.step()\n",
    "\n",
    "        total_loss += loss.item()\n",
    "\n",
    "    return total_loss / num_batches\n"
   ]
  },
  {
   "cell_type": "code",
   "execution_count": 26,
   "id": "cdfacb9b-6b8b-4cd2-a892-e3df774669cc",
   "metadata": {},
   "outputs": [],
   "source": [
    "def evaluate_model(model, test_data, criterion, batch_size):\n",
    "    model.eval()\n",
    "    num_batches = test_data.size(0) // batch_size\n",
    "    total_loss = 0\n",
    "\n",
    "    with torch.no_grad():\n",
    "        for i in range(num_batches):\n",
    "            batch = test_data[i * batch_size:(i + 1) * batch_size].to(device)\n",
    "\n",
    "            predictions = model(batch)\n",
    "            mask = batch > 0  # Mask for non-zero ratings\n",
    "            loss = criterion(predictions[mask], batch[mask])\n",
    "            total_loss += loss.item()\n",
    "\n",
    "    return total_loss / num_batches"
   ]
  },
  {
   "cell_type": "code",
   "execution_count": 182,
   "id": "31e1b7fa-a40f-48f1-a2cc-d2c2e4ec38d1",
   "metadata": {},
   "outputs": [],
   "source": [
    "# Hyperparameters\n",
    "hidden_dim = 64\n",
    "lambda_ = 0.0001\n",
    "learning_rate = 0.00005\n",
    "batch_size = 32\n",
    "epochs = 128\n",
    "device = 'cuda' if torch.cuda.is_available() else 'cpu'"
   ]
  },
  {
   "cell_type": "code",
   "execution_count": 183,
   "id": "4508c600-6147-4878-a56c-f5963953ea21",
   "metadata": {},
   "outputs": [],
   "source": [
    "# Initialize model, optimizer, and loss function\n",
    "model = AutoRec(num_movies, hidden_dim, lambda_).to(device)\n",
    "optimizer = torch.optim.Adam(model.parameters(), lr=learning_rate, weight_decay=1e-4)\n",
    "scheduler = torch.optim.lr_scheduler.LinearLR(optimizer, start_factor=0.5, total_iters=5)\n",
    "criterion = nn.MSELoss()"
   ]
  },
  {
   "cell_type": "code",
   "execution_count": 184,
   "id": "30684490-c2c9-44f9-9596-479955f15bb4",
   "metadata": {},
   "outputs": [],
   "source": [
    "train_tensor = train_matrix.to(device)\n",
    "test_tensor = test_matrix.to(device)\n",
    "val_tensor = val_matrix.to(device)"
   ]
  },
  {
   "cell_type": "code",
   "execution_count": 185,
   "id": "26374514-f58a-4169-97f7-b0b4d286d68a",
   "metadata": {},
   "outputs": [],
   "source": [
    "train_losses, val_losses = [], []"
   ]
  },
  {
   "cell_type": "code",
   "execution_count": 186,
   "id": "f35f4af3-2aaf-4ddb-baa8-de703e4c2768",
   "metadata": {},
   "outputs": [
    {
     "name": "stdout",
     "output_type": "stream",
     "text": [
      "Epoch 1/128, Train Loss: 13.2729, Validation Loss: 13.2264\n",
      "Epoch 2/128, Train Loss: 13.1541, Validation Loss: 13.1305\n",
      "Epoch 3/128, Train Loss: 13.0299, Validation Loss: 13.0217\n",
      "Epoch 4/128, Train Loss: 12.8868, Validation Loss: 12.8962\n",
      "Epoch 5/128, Train Loss: 12.7201, Validation Loss: 12.7489\n",
      "Epoch 6/128, Train Loss: 12.5258, Validation Loss: 12.5747\n",
      "Epoch 7/128, Train Loss: 12.3019, Validation Loss: 12.3875\n",
      "Epoch 8/128, Train Loss: 12.0609, Validation Loss: 12.1879\n",
      "Epoch 9/128, Train Loss: 11.8113, Validation Loss: 11.9780\n",
      "Epoch 10/128, Train Loss: 11.5472, Validation Loss: 11.7598\n",
      "Epoch 11/128, Train Loss: 11.2824, Validation Loss: 11.5360\n",
      "Epoch 12/128, Train Loss: 11.0050, Validation Loss: 11.3070\n",
      "Epoch 13/128, Train Loss: 10.7392, Validation Loss: 11.0764\n",
      "Epoch 14/128, Train Loss: 10.4723, Validation Loss: 10.8454\n",
      "Epoch 15/128, Train Loss: 10.2192, Validation Loss: 10.6160\n",
      "Epoch 16/128, Train Loss: 9.9454, Validation Loss: 10.3879\n",
      "Epoch 17/128, Train Loss: 9.6995, Validation Loss: 10.1612\n",
      "Epoch 18/128, Train Loss: 9.4511, Validation Loss: 9.9367\n",
      "Epoch 19/128, Train Loss: 9.2102, Validation Loss: 9.7157\n",
      "Epoch 20/128, Train Loss: 8.9782, Validation Loss: 9.4986\n",
      "Epoch 21/128, Train Loss: 8.7332, Validation Loss: 9.2856\n",
      "Epoch 22/128, Train Loss: 8.5194, Validation Loss: 9.0772\n",
      "Epoch 23/128, Train Loss: 8.3131, Validation Loss: 8.8736\n",
      "Epoch 24/128, Train Loss: 8.1138, Validation Loss: 8.6750\n",
      "Epoch 25/128, Train Loss: 7.8716, Validation Loss: 8.4804\n",
      "Epoch 26/128, Train Loss: 7.6826, Validation Loss: 8.2902\n",
      "Epoch 27/128, Train Loss: 7.5194, Validation Loss: 8.1047\n",
      "Epoch 28/128, Train Loss: 7.2997, Validation Loss: 7.9234\n",
      "Epoch 29/128, Train Loss: 7.1187, Validation Loss: 7.7465\n",
      "Epoch 30/128, Train Loss: 6.9496, Validation Loss: 7.5741\n",
      "Epoch 31/128, Train Loss: 6.7657, Validation Loss: 7.4057\n",
      "Epoch 32/128, Train Loss: 6.6029, Validation Loss: 7.2416\n",
      "Epoch 33/128, Train Loss: 6.4572, Validation Loss: 7.0817\n",
      "Epoch 34/128, Train Loss: 6.3087, Validation Loss: 6.9260\n",
      "Epoch 35/128, Train Loss: 6.1253, Validation Loss: 6.7741\n",
      "Epoch 36/128, Train Loss: 5.9694, Validation Loss: 6.6261\n",
      "Epoch 37/128, Train Loss: 5.8464, Validation Loss: 6.4818\n",
      "Epoch 38/128, Train Loss: 5.7025, Validation Loss: 6.3412\n",
      "Epoch 39/128, Train Loss: 5.5716, Validation Loss: 6.2043\n",
      "Epoch 40/128, Train Loss: 5.4525, Validation Loss: 6.0709\n",
      "Epoch 41/128, Train Loss: 5.3190, Validation Loss: 5.9411\n",
      "Epoch 42/128, Train Loss: 5.1989, Validation Loss: 5.8148\n",
      "Epoch 43/128, Train Loss: 5.0714, Validation Loss: 5.6916\n",
      "Epoch 44/128, Train Loss: 4.9680, Validation Loss: 5.5718\n",
      "Epoch 45/128, Train Loss: 4.8313, Validation Loss: 5.4551\n",
      "Epoch 46/128, Train Loss: 4.7221, Validation Loss: 5.3415\n",
      "Epoch 47/128, Train Loss: 4.6074, Validation Loss: 5.2309\n",
      "Epoch 48/128, Train Loss: 4.5146, Validation Loss: 5.1233\n",
      "Epoch 49/128, Train Loss: 4.4216, Validation Loss: 5.0186\n",
      "Epoch 50/128, Train Loss: 4.3130, Validation Loss: 4.9168\n",
      "Epoch 51/128, Train Loss: 4.2255, Validation Loss: 4.8177\n",
      "Epoch 52/128, Train Loss: 4.1193, Validation Loss: 4.7214\n",
      "Epoch 53/128, Train Loss: 4.0234, Validation Loss: 4.6277\n",
      "Epoch 54/128, Train Loss: 3.9258, Validation Loss: 4.5366\n",
      "Epoch 55/128, Train Loss: 3.8480, Validation Loss: 4.4480\n",
      "Epoch 56/128, Train Loss: 3.7652, Validation Loss: 4.3617\n",
      "Epoch 57/128, Train Loss: 3.6807, Validation Loss: 4.2780\n",
      "Epoch 58/128, Train Loss: 3.6195, Validation Loss: 4.1966\n",
      "Epoch 59/128, Train Loss: 3.5309, Validation Loss: 4.1175\n",
      "Epoch 60/128, Train Loss: 3.4419, Validation Loss: 4.0408\n",
      "Epoch 61/128, Train Loss: 3.3908, Validation Loss: 3.9662\n",
      "Epoch 62/128, Train Loss: 3.3224, Validation Loss: 3.8937\n",
      "Epoch 63/128, Train Loss: 3.2412, Validation Loss: 3.8233\n",
      "Epoch 64/128, Train Loss: 3.1723, Validation Loss: 3.7549\n",
      "Epoch 65/128, Train Loss: 3.1349, Validation Loss: 3.6885\n",
      "Epoch 66/128, Train Loss: 3.0301, Validation Loss: 3.6242\n",
      "Epoch 67/128, Train Loss: 2.9979, Validation Loss: 3.5616\n",
      "Epoch 68/128, Train Loss: 2.9439, Validation Loss: 3.5008\n",
      "Epoch 69/128, Train Loss: 2.8831, Validation Loss: 3.4418\n",
      "Epoch 70/128, Train Loss: 2.8166, Validation Loss: 3.3844\n",
      "Epoch 71/128, Train Loss: 2.7922, Validation Loss: 3.3288\n",
      "Epoch 72/128, Train Loss: 2.7126, Validation Loss: 3.2748\n",
      "Epoch 73/128, Train Loss: 2.6660, Validation Loss: 3.2228\n",
      "Epoch 74/128, Train Loss: 2.6160, Validation Loss: 3.1721\n",
      "Epoch 75/128, Train Loss: 2.5850, Validation Loss: 3.1228\n",
      "Epoch 76/128, Train Loss: 2.5168, Validation Loss: 3.0751\n",
      "Epoch 77/128, Train Loss: 2.4683, Validation Loss: 3.0289\n",
      "Epoch 78/128, Train Loss: 2.4173, Validation Loss: 2.9843\n",
      "Epoch 79/128, Train Loss: 2.3761, Validation Loss: 2.9410\n",
      "Epoch 80/128, Train Loss: 2.3445, Validation Loss: 2.8990\n",
      "Epoch 81/128, Train Loss: 2.3073, Validation Loss: 2.8582\n",
      "Epoch 82/128, Train Loss: 2.2622, Validation Loss: 2.8187\n",
      "Epoch 83/128, Train Loss: 2.2283, Validation Loss: 2.7803\n",
      "Epoch 84/128, Train Loss: 2.1991, Validation Loss: 2.7431\n",
      "Epoch 85/128, Train Loss: 2.1642, Validation Loss: 2.7070\n",
      "Epoch 86/128, Train Loss: 2.1038, Validation Loss: 2.6722\n",
      "Epoch 87/128, Train Loss: 2.0817, Validation Loss: 2.6385\n",
      "Epoch 88/128, Train Loss: 2.0498, Validation Loss: 2.6059\n",
      "Epoch 89/128, Train Loss: 2.0158, Validation Loss: 2.5742\n",
      "Epoch 90/128, Train Loss: 1.9927, Validation Loss: 2.5435\n",
      "Epoch 91/128, Train Loss: 1.9520, Validation Loss: 2.5139\n",
      "Epoch 92/128, Train Loss: 1.9268, Validation Loss: 2.4851\n",
      "Epoch 93/128, Train Loss: 1.9100, Validation Loss: 2.4572\n",
      "Epoch 94/128, Train Loss: 1.8860, Validation Loss: 2.4302\n",
      "Epoch 95/128, Train Loss: 1.8507, Validation Loss: 2.4040\n",
      "Epoch 96/128, Train Loss: 1.8201, Validation Loss: 2.3787\n",
      "Epoch 97/128, Train Loss: 1.8016, Validation Loss: 2.3541\n",
      "Epoch 98/128, Train Loss: 1.7910, Validation Loss: 2.3301\n",
      "Epoch 99/128, Train Loss: 1.7706, Validation Loss: 2.3068\n",
      "Epoch 100/128, Train Loss: 1.7418, Validation Loss: 2.2843\n",
      "Epoch 101/128, Train Loss: 1.7189, Validation Loss: 2.2626\n",
      "Epoch 102/128, Train Loss: 1.6871, Validation Loss: 2.2417\n",
      "Epoch 103/128, Train Loss: 1.6633, Validation Loss: 2.2215\n",
      "Epoch 104/128, Train Loss: 1.6491, Validation Loss: 2.2019\n",
      "Epoch 105/128, Train Loss: 1.6304, Validation Loss: 2.1829\n",
      "Epoch 106/128, Train Loss: 1.6043, Validation Loss: 2.1645\n",
      "Epoch 107/128, Train Loss: 1.5971, Validation Loss: 2.1466\n",
      "Epoch 108/128, Train Loss: 1.5685, Validation Loss: 2.1293\n",
      "Epoch 109/128, Train Loss: 1.5502, Validation Loss: 2.1126\n",
      "Epoch 110/128, Train Loss: 1.5384, Validation Loss: 2.0964\n",
      "Epoch 111/128, Train Loss: 1.5143, Validation Loss: 2.0808\n",
      "Epoch 112/128, Train Loss: 1.4990, Validation Loss: 2.0656\n",
      "Epoch 113/128, Train Loss: 1.4895, Validation Loss: 2.0509\n",
      "Epoch 114/128, Train Loss: 1.4785, Validation Loss: 2.0367\n",
      "Epoch 115/128, Train Loss: 1.4662, Validation Loss: 2.0228\n",
      "Epoch 116/128, Train Loss: 1.4426, Validation Loss: 2.0094\n",
      "Epoch 117/128, Train Loss: 1.4346, Validation Loss: 1.9965\n",
      "Epoch 118/128, Train Loss: 1.4212, Validation Loss: 1.9840\n",
      "Epoch 119/128, Train Loss: 1.3955, Validation Loss: 1.9720\n",
      "Epoch 120/128, Train Loss: 1.3974, Validation Loss: 1.9602\n",
      "Epoch 121/128, Train Loss: 1.3886, Validation Loss: 1.9487\n",
      "Epoch 122/128, Train Loss: 1.3737, Validation Loss: 1.9376\n",
      "Epoch 123/128, Train Loss: 1.3613, Validation Loss: 1.9268\n",
      "Epoch 124/128, Train Loss: 1.3518, Validation Loss: 1.9163\n",
      "Epoch 125/128, Train Loss: 1.3344, Validation Loss: 1.9063\n",
      "Epoch 126/128, Train Loss: 1.3139, Validation Loss: 1.8967\n",
      "Epoch 127/128, Train Loss: 1.3242, Validation Loss: 1.8873\n",
      "Epoch 128/128, Train Loss: 1.3009, Validation Loss: 1.8782\n"
     ]
    }
   ],
   "source": [
    "for epoch in range(epochs):\n",
    "    train_loss = train_epoch(model, train_tensor, optimizer, criterion, batch_size)\n",
    "    val_loss = evaluate_model(model, val_tensor, criterion, batch_size)\n",
    "\n",
    "    train_losses.append(train_loss)\n",
    "    val_losses.append(val_loss)\n",
    "\n",
    "    scheduler.step()\n",
    "    \n",
    "    print(f\"Epoch {epoch + 1}/{epochs}, Train Loss: {train_loss:.4f}, Validation Loss: {val_loss:.4f}\")"
   ]
  },
  {
   "cell_type": "code",
   "execution_count": 187,
   "id": "087546d4-bd03-4c86-a67a-ce608877e2e7",
   "metadata": {},
   "outputs": [
    {
     "data": {
      "image/png": "[encoded data removed]",
      "text/plain": [
       "<Figure size 640x480 with 1 Axes>"
      ]
     },
     "metadata": {},
     "output_type": "display_data"
    }
   ],
   "source": [
    "# Plot losses\n",
    "plt.plot(train_losses, label='Train Loss')\n",
    "plt.plot(val_losses, label='Validation Loss')\n",
    "plt.xlabel('Epoch')\n",
    "plt.ylabel('Loss')\n",
    "plt.title('Training and Testing Loss')\n",
    "plt.show()"
   ]
  },
  {
   "cell_type": "code",
   "execution_count": 188,
   "id": "13142f86-f29e-4376-96e1-e9cac7baa52f",
   "metadata": {},
   "outputs": [],
   "source": [
    "def calculate_rmse(model, data, batch_size):\n",
    "    model.eval()\n",
    "    num_batches = data.size(0) // batch_size\n",
    "    mse = 0\n",
    "    total_ratings = 0\n",
    "\n",
    "    with torch.no_grad():\n",
    "        for i in range(num_batches):\n",
    "            batch = data[i * batch_size:(i + 1) * batch_size].to(device)\n",
    "            predictions = model(batch)\n",
    "            mask = batch > 0\n",
    "            \n",
    "            mse += ((predictions[mask] - batch[mask]) ** 2).sum().item()\n",
    "            total_ratings += mask.sum().item()\n",
    "\n",
    "    return np.sqrt(mse / total_ratings)"
   ]
  },
  {
   "cell_type": "code",
   "execution_count": 189,
   "id": "609f2cda-0ed4-4017-9414-398f3aa9851e",
   "metadata": {
    "scrolled": true
   },
   "outputs": [
    {
     "name": "stdout",
     "output_type": "stream",
     "text": [
      "Test RMSE: 1.4153\n"
     ]
    }
   ],
   "source": [
    "rmse = calculate_rmse(model, test_tensor, batch_size)\n",
    "print(f\"Test RMSE: {rmse:.4f}\")"
   ]
  },
  {
   "cell_type": "code",
   "execution_count": 190,
   "id": "b585bad2-1d92-4288-9794-2a6414082f99",
   "metadata": {},
   "outputs": [
    {
     "name": "stdout",
     "output_type": "stream",
     "text": [
      "Test RMSE: 1.4153\n",
      "Test MAE: 1.0109\n",
      "Test MSE: 2.0030\n",
      "Test R2: -0.9787\n",
      "Test Explained Variance: -0.9787\n"
     ]
    }
   ],
   "source": [
    "import numpy as np\n",
    "import torch\n",
    "from torch import nn\n",
    "\n",
    "# Calculate RMSE\n",
    "def calculate_rmse(model, data, batch_size):\n",
    "    model.eval()\n",
    "    num_batches = data.size(0) // batch_size\n",
    "    mse = 0\n",
    "    total_ratings = 0\n",
    "\n",
    "    with torch.no_grad():\n",
    "        for i in range(num_batches):\n",
    "            batch = data[i * batch_size:(i + 1) * batch_size].to(device)\n",
    "            predictions = model(batch)\n",
    "            mask = batch > 0\n",
    "            \n",
    "            mse += ((predictions[mask] - batch[mask]) ** 2).sum().item()\n",
    "            total_ratings += mask.sum().item()\n",
    "\n",
    "    return np.sqrt(mse / total_ratings)\n",
    "\n",
    "# Calculate MAE\n",
    "def calculate_mae(model, data, batch_size):\n",
    "    model.eval()\n",
    "    num_batches = data.size(0) // batch_size\n",
    "    mae = 0\n",
    "    total_ratings = 0\n",
    "\n",
    "    with torch.no_grad():\n",
    "        for i in range(num_batches):\n",
    "            batch = data[i * batch_size:(i + 1) * batch_size].to(device)\n",
    "            predictions = model(batch)\n",
    "            mask = batch > 0\n",
    "            \n",
    "            mae += (predictions[mask] - batch[mask]).abs().sum().item()\n",
    "            total_ratings += mask.sum().item()\n",
    "\n",
    "    return mae / total_ratings\n",
    "\n",
    "# Calculate MSE\n",
    "def calculate_mse(model, data, batch_size):\n",
    "    model.eval()\n",
    "    num_batches = data.size(0) // batch_size\n",
    "    mse = 0\n",
    "    total_ratings = 0\n",
    "\n",
    "    with torch.no_grad():\n",
    "        for i in range(num_batches):\n",
    "            batch = data[i * batch_size:(i + 1) * batch_size].to(device)\n",
    "            predictions = model(batch)\n",
    "            mask = batch > 0\n",
    "            \n",
    "            mse += ((predictions[mask] - batch[mask]) ** 2).sum().item()\n",
    "            total_ratings += mask.sum().item()\n",
    "\n",
    "    return mse / total_ratings\n",
    "\n",
    "# Calculate R-Squared\n",
    "def calculate_r2(model, data, batch_size):\n",
    "    model.eval()\n",
    "    num_batches = data.size(0) // batch_size\n",
    "    ss_total = 0\n",
    "    ss_residual = 0\n",
    "\n",
    "    with torch.no_grad():\n",
    "        for i in range(num_batches):\n",
    "            batch = data[i * batch_size:(i + 1) * batch_size].to(device)\n",
    "            predictions = model(batch)\n",
    "            mask = batch > 0\n",
    "\n",
    "            mean_rating = batch[mask].mean().item()\n",
    "            ss_total += ((batch[mask] - mean_rating) ** 2).sum().item()\n",
    "            ss_residual += ((predictions[mask] - batch[mask]) ** 2).sum().item()\n",
    "\n",
    "    return 1 - (ss_residual / ss_total)\n",
    "\n",
    "# Calculate Explained Variance\n",
    "def calculate_explained_variance(model, data, batch_size):\n",
    "    model.eval()\n",
    "    variance_explained = 0\n",
    "    variance_total = 0\n",
    "\n",
    "    with torch.no_grad():\n",
    "        for i in range(data.size(0) // batch_size):\n",
    "            batch = data[i * batch_size:(i + 1) * batch_size].to(device)\n",
    "            predictions = model(batch)\n",
    "            mask = batch > 0\n",
    "\n",
    "            batch_var = ((batch[mask] - batch[mask].mean()) ** 2).sum().item()\n",
    "            residual_var = ((batch[mask] - predictions[mask]) ** 2).sum().item()\n",
    "\n",
    "            variance_total += batch_var\n",
    "            variance_explained += (batch_var - residual_var)\n",
    "\n",
    "    return variance_explained / variance_total\n",
    "\n",
    "batch_size = 32\n",
    "\n",
    "rmse = calculate_rmse(model, test_tensor, batch_size)\n",
    "mae = calculate_mae(model, test_tensor, batch_size)\n",
    "mse = calculate_mse(model, test_tensor, batch_size)\n",
    "r2 = calculate_r2(model, test_tensor, batch_size)\n",
    "explained_variance = calculate_explained_variance(model, test_tensor, batch_size)\n",
    "\n",
    "print(f\"Test RMSE: {rmse:.4f}\")\n",
    "print(f\"Test MAE: {mae:.4f}\")\n",
    "print(f\"Test MSE: {mse:.4f}\")\n",
    "print(f\"Test R2: {r2:.4f}\")\n",
    "print(f\"Test Explained Variance: {explained_variance:.4f}\")\n"
   ]
  },
  {
   "cell_type": "code",
   "execution_count": 191,
   "id": "5077d51a-836e-4b8b-a070-82659ab57937",
   "metadata": {},
   "outputs": [],
   "source": [
    "# Populate user_item_matrix with ratings from the dataset\n",
    "for row in ratings.itertuples():\n",
    "    user_item_matrix[row.userId, row.movieId] = row.rating"
   ]
  },
  {
   "cell_type": "code",
   "execution_count": 192,
   "id": "7f441990-1af2-43d8-a173-82b75f0e3392",
   "metadata": {},
   "outputs": [],
   "source": [
    "def test_model_top_k_masking_with_users(model, test_users, test_matrix, k=5):\n",
    "    all_metrics = []\n",
    "    for user_id in test_users:\n",
    "        metrics = test_model_top_k_masking_single_user_with_test_matrix(\n",
    "            model, user_id, test_matrix, k=k\n",
    "        )\n",
    "        all_metrics.append(metrics)\n",
    "\n",
    "    avg_accuracy = sum(m[\"Accuracy\"] for m in all_metrics) / len(all_metrics)\n",
    "\n",
    "    return {\n",
    "        \"Average Accuracy\": avg_accuracy,\n",
    "        \"Total Users\": len(all_metrics),\n",
    "    }"
   ]
  },
  {
   "cell_type": "code",
   "execution_count": 193,
   "id": "c6abe2c5-af60-4ea5-bb88-f335c4e13195",
   "metadata": {},
   "outputs": [],
   "source": [
    "def test_model_top_k_masking_single_user_with_test_matrix(model, user_id, test_matrix, k=5):\n",
    "    model.eval()\n",
    "\n",
    "    # Get the user index from the mapping\n",
    "    if user_id not in user_mapping:\n",
    "        raise ValueError(f\"User ID {user_id} not found in user mapping.\")\n",
    "\n",
    "    user_idx = user_mapping[user_id]\n",
    "    \n",
    "    # Get the user's ratings from the test matrix\n",
    "    user_ratings = test_matrix[user_idx].clone()\n",
    "    \n",
    "    # Identify the top-K movies rated by the user\n",
    "    sorted_indices = torch.argsort(user_ratings, descending=True)\n",
    "    top_k_indices = sorted_indices[:k]\n",
    "    \n",
    "    # Save the actual values for the top-K movies\n",
    "    real_values = user_ratings[top_k_indices].tolist()\n",
    "    \n",
    "    # Mask the top-K ratings in the matrix\n",
    "    masked_ratings = user_ratings.clone()\n",
    "    masked_ratings[top_k_indices] = 0  # Set top-K ratings to 0 for prediction\n",
    "\n",
    "    # Predict ratings for all movies\n",
    "    predicted_ratings = model(masked_ratings.unsqueeze(0).to(device)).squeeze(0).cpu()\n",
    "    \n",
    "    # Retrieve predictions for the masked movies\n",
    "    predicted_values = predicted_ratings[top_k_indices].tolist()\n",
    "\n",
    "    # Calculate hits (correct predictions)\n",
    "    threshold = min(real_values)  # Use the lowest rating among the top-K as the threshold\n",
    "    predicted_set = torch.argsort(predicted_ratings, descending=True)[:k].tolist()\n",
    "    hits = sum(1 for idx in top_k_indices if idx in predicted_set)\n",
    "    accuracy = hits / k\n",
    "\n",
    "    # Compute evaluation metrics\n",
    "    rmse = torch.sqrt(torch.mean((torch.tensor(predicted_values) - torch.tensor(real_values)) ** 2)).item()\n",
    "    mae = torch.mean(torch.abs(torch.tensor(predicted_values) - torch.tensor(real_values))).item()\n",
    "\n",
    "    return {\n",
    "        \"Accuracy\": accuracy * 100,  # Convert to percentage\n",
    "        \"Hits\": hits,\n",
    "        \"Total Masked\": k,\n",
    "    }"
   ]
  },
  {
   "cell_type": "code",
   "execution_count": 194,
   "id": "6f162929-25d0-47ef-a6ee-bbc2a108b154",
   "metadata": {},
   "outputs": [
    {
     "name": "stdout",
     "output_type": "stream",
     "text": [
      "Average Accuracy: 12.26%\n",
      "Total Test Users: 122\n"
     ]
    }
   ],
   "source": [
    "# Evaluate the model on the test users\n",
    "metrics = test_model_top_k_masking_with_users(model, test_users, test_matrix, k=50)\n",
    "\n",
    "# Print the results\n",
    "print(f\"Average Accuracy: {metrics['Average Accuracy']:.2f}%\")\n",
    "print(f\"Total Test Users: {metrics['Total Users']}\")"
   ]
  },
  {
   "cell_type": "code",
   "execution_count": null,
   "id": "fb6c1621-4662-4388-b693-7c5a737ef366",
   "metadata": {},
   "outputs": [],
   "source": []
  },
  {
   "cell_type": "markdown",
   "id": "28605f42-2de6-4ce0-abb9-888a5e0b32ab",
   "metadata": {},
   "source": [
    "# Choosing hyperparameters\n",
    "\n",
    "Best Hyperparameters: {'hidden_dim': 100, 'lambda_': 0.0001, 'learning_rate': 0.01, 'batch_size': 32, 'amsgrad': False}\n",
    "\n",
    "Best RMSE: 1.1672\n",
    "\n",
    "However, it is for little amount of epochs, so this only gives us some basis for hyperparameters.\n"
   ]
  },
  {
   "cell_type": "code",
   "execution_count": 40,
   "id": "2d5c70c4-be59-4c9e-b399-064c4169f197",
   "metadata": {},
   "outputs": [],
   "source": [
    "# import itertools\n",
    "# from sklearn.model_selection import KFold\n",
    "# import numpy as np\n",
    "# import torch\n",
    "# from torch import nn\n",
    "\n",
    "# # Define hyperparameter grid\n",
    "# param_grid = {\n",
    "#     'hidden_dim': [100, 500, 1000],\n",
    "#     'lambda_': [0.0001, 0.001],\n",
    "#     'learning_rate': [0.01, 0.015, 0.001, 0.0001],\n",
    "#     'batch_size': [32, 64, 128, 256],\n",
    "#     'amsgrad': [False, True],\n",
    "# }\n",
    "\n",
    "# param_combinations = list(itertools.product(*param_grid.values()))\n",
    "\n",
    "# # Define K-Fold Cross-Validation\n",
    "# k_folds = 5\n",
    "# kf = KFold(n_splits=k_folds, shuffle=True, random_state=42)\n",
    "\n",
    "# # Function to train and evaluate using K-Fold Cross-Validation\n",
    "# def train_and_evaluate_kfold(params, full_matrix, k_folds):\n",
    "#     # Unpack parameters\n",
    "#     hidden_dim, lambda_, learning_rate, batch_size, amsgrad = params\n",
    "\n",
    "#     # Initialize storage for RMSE scores\n",
    "#     fold_rmse_scores = []\n",
    "\n",
    "#     # Perform K-Fold Cross-Validation\n",
    "#     for train_idx, val_idx in kf.split(full_matrix):\n",
    "#         # Create train and validation matrices\n",
    "#         train_matrix = torch.zeros_like(full_matrix)\n",
    "#         val_matrix = torch.zeros_like(full_matrix)\n",
    "        \n",
    "#         # Populate train and validation matrices\n",
    "#         train_matrix[train_idx] = full_matrix[train_idx]\n",
    "#         val_matrix[val_idx] = full_matrix[val_idx]\n",
    "        \n",
    "#         # Initialize model, optimizer, and loss function\n",
    "#         model = AutoRec(num_movies, hidden_dim, lambda_).to(device)\n",
    "#         optimizer = torch.optim.Adam(\n",
    "#             model.parameters(),\n",
    "#             lr=learning_rate,\n",
    "#             amsgrad=amsgrad\n",
    "#         )\n",
    "#         criterion = nn.MSELoss()\n",
    "\n",
    "#         # Add a scheduler to dynamically adjust learning rate\n",
    "#         scheduler = torch.optim.lr_scheduler.ReduceLROnPlateau(\n",
    "#             optimizer, mode='min', factor=0.25, patience=2, verbose=False\n",
    "#         )\n",
    "\n",
    "#         # Train the model\n",
    "#         train_tensor = train_matrix.to(device)\n",
    "#         val_tensor = val_matrix.to(device)\n",
    "#         for epoch in range(10):  # Fewer epochs for faster cross-validation\n",
    "#             train_epoch(model, train_tensor, optimizer, criterion, batch_size)\n",
    "\n",
    "#             # Evaluate the model on the validation set after each epoch\n",
    "#             val_loss = evaluate_model(model, val_tensor, criterion, batch_size)\n",
    "\n",
    "#             # Step the scheduler with validation loss\n",
    "#             scheduler.step(val_loss)\n",
    "\n",
    "#         # Final evaluation for this fold\n",
    "#         rmse = calculate_rmse(model, val_tensor, batch_size)\n",
    "#         fold_rmse_scores.append(rmse)\n",
    "\n",
    "#     # Return the average RMSE across all folds\n",
    "#     return np.mean(fold_rmse_scores)\n",
    "\n",
    "# # Track best hyperparameters and performance\n",
    "# best_params = None\n",
    "# best_rmse = float('inf')\n",
    "\n",
    "# # Perform hyperparameter search\n",
    "# for i, params in enumerate(param_combinations):\n",
    "#     print(f\"Testing combination {i+1}/{len(param_combinations)}: {params}\")\n",
    "#     rmse = train_and_evaluate_kfold(params, full_matrix, k_folds)\n",
    "\n",
    "#     print(f\"Average RMSE across {k_folds} folds: {rmse:.4f}\")\n",
    "\n",
    "#     # Update best parameters if current RMSE is better\n",
    "#     if rmse < best_rmse:\n",
    "#         best_rmse = rmse\n",
    "#         best_params = params\n",
    "\n",
    "# # Print the best hyperparameters\n",
    "# best_param_dict = dict(zip(param_grid.keys(), best_params))\n",
    "# print(f\"\\nBest Hyperparameters: {best_param_dict}\")\n",
    "# print(f\"Best RMSE: {best_rmse:.4f}\")\n"
   ]
  },
  {
   "cell_type": "code",
   "execution_count": null,
   "id": "3a21decb-1153-4321-9f30-f208202f1786",
   "metadata": {},
   "outputs": [],
   "source": []
  },
  {
   "cell_type": "code",
   "execution_count": null,
   "id": "22323817-9b07-475a-8ac4-031e50e20459",
   "metadata": {},
   "outputs": [],
   "source": []
  },
  {
   "cell_type": "code",
   "execution_count": null,
   "id": "26b06aa5-cb32-4ade-851d-fa18b21ac7fd",
   "metadata": {},
   "outputs": [],
   "source": []
  }
 ],
 "metadata": {
  "kernelspec": {
   "display_name": "Python 3 (ipykernel)",
   "language": "python",
   "name": "python3"
  },
  "language_info": {
   "codemirror_mode": {
    "name": "ipython",
    "version": 3
   },
   "file_extension": ".py",
   "mimetype": "text/x-python",
   "name": "python",
   "nbconvert_exporter": "python",
   "pygments_lexer": "ipython3",
   "version": "3.12.4"
  }
 },
 "nbformat": 4,
 "nbformat_minor": 5
}
